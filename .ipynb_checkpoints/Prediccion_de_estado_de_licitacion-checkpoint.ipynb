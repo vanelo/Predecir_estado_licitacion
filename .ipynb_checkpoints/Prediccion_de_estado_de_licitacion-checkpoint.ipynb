{
 "cells": [
  {
   "cell_type": "markdown",
   "metadata": {},
   "source": [
    "<p align=\"right\">\n",
    "  <img src=\"https://ucom.edu.py/wp-content/uploads/2022/05/logoUCOM.svg\" alt=\"Texto alternativo\" style=\"float: right;\">\n",
    "</p>"
   ]
  },
  {
   "cell_type": "markdown",
   "metadata": {},
   "source": [
    "<h1 style='color: #5bc5f2; font-size: 36px; font-weight: bold;'>Predicción de estado de licitación de la DNCP</h1>"
   ]
  },
  {
   "cell_type": "markdown",
   "metadata": {},
   "source": [
    "Trabajaremos con el conjunto de datos de la DNCP (Dirección Nacional de Contrataciones Públicas) [Enlace a los datos completos aquí](https://www.contrataciones.gov.py/datos/)"
   ]
  },
  {
   "cell_type": "markdown",
   "metadata": {},
   "source": [
    "# Resumen:\n",
    "### 1. Análisis de los datos\n",
    "### 2. Organización del dataframe\n",
    "### 3. Pre-procesamiento de los datos\n",
    "### 4. Transformación de datos\n",
    "### 5. Remover valores atipicos\n",
    "### 6. Evaluación de datos\n",
    "### 7. Balanceo de la variable objetivo\n",
    "### 8. Separar los datos en entrenamiento y prueba\n",
    "### 9. Clasificación Método probabilístico\n",
    "### 10. Evaluación de modelo"
   ]
  },
  {
   "cell_type": "markdown",
   "metadata": {},
   "source": [
    "## 1. Análisis de los datos"
   ]
  },
  {
   "cell_type": "markdown",
   "metadata": {},
   "source": [
    "Para conocer más detalladamente acerca de los datos, ingresar a [diccionario de datos](https://www.contrataciones.gov.py/datos/diccionario)"
   ]
  },
  {
   "cell_type": "markdown",
   "metadata": {},
   "source": [
    "### 1.1. Columnas numéricas"
   ]
  },
  {
   "cell_type": "markdown",
   "metadata": {},
   "source": [
    "TenderHasEnquiries                   \n",
    "TenderValueAmount                    \n",
    "TenderTenderPeriodDurationInDays     \n",
    "TenderEnquiryPeriodDurationInDays    \n",
    "TenderNumberOfTenderers              \n",
    "PlanningBudgetAmountAmount           \n",
    "TenderTechniquesHasElectronicAuction \n",
    "TenderContractPeriodDurationInDays   \n",
    "TenderTechniquesHasFrameworkAgreement"
   ]
  },
  {
   "cell_type": "markdown",
   "metadata": {},
   "source": [
    "### 1.2. Columnas categóricas"
   ]
  },
  {
   "cell_type": "markdown",
   "metadata": {},
   "source": [
    "TenderId                             \n",
    "TenderTitle                          \n",
    "TenderStatus                         \n",
    "TenderAwardCriteria                  \n",
    "TenderSubmissionMethod               \n",
    "TenderEligibilityCriteria            \n",
    "TenderValueCurrency                  \n",
    "TenderMainProcurementCategory        \n",
    "TenderAdditionalProcurementCategories\n",
    "TenderProcurementMethod              \n",
    "Language                             \n",
    "Ocid                                 \n",
    "InitiationType                       \n",
    "BuyerId                              \n",
    "BuyerName                            \n",
    "PlanningEstimatedDate                \n",
    "PlanningBudgetAmountCurrency         \n",
    "TenderCoveredBy                      \n",
    "TenderContractPeriodMaxExtentDate    \n",
    "TenderProcurementIntentionCategory   \n",
    "TenderProcurementIntentionStatus     \n",
    "TenderProcurementMethodRationale     \n",
    "TenderProcurementIntentionRationale"
   ]
  },
  {
   "cell_type": "markdown",
   "metadata": {},
   "source": [
    "### 1.3. Columna objetivo"
   ]
  },
  {
   "cell_type": "markdown",
   "metadata": {},
   "source": [
    "TenderStatus"
   ]
  },
  {
   "cell_type": "markdown",
   "metadata": {},
   "source": [
    "## 2. Organización del DataFrame"
   ]
  },
  {
   "cell_type": "markdown",
   "metadata": {},
   "source": [
    "### 2.1. Importando librerías y datos"
   ]
  },
  {
   "cell_type": "code",
   "execution_count": 280,
   "metadata": {
    "id": "6MPDqCETDNE1"
   },
   "outputs": [],
   "source": [
    "# importar librerias\n",
    "import pandas as pd\n",
    "import numpy as np\n",
    "from sklearn.model_selection import train_test_split\n",
    "from sklearn.linear_model import LogisticRegression\n",
    "from sklearn.metrics import accuracy_score\n",
    "import matplotlib.pyplot as plt\n",
    "import seaborn as sns\n",
    "from statsmodels.stats.outliers_influence import variance_inflation_factor\n",
    "from zipfile import ZipFile, ZIP_DEFLATED\n",
    "from tempfile import TemporaryDirectory\n",
    "import os"
   ]
  },
  {
   "cell_type": "code",
   "execution_count": 281,
   "metadata": {},
   "outputs": [],
   "source": [
    "# Silenciando Warnings\n",
    "import warnings\n",
    "warnings.filterwarnings(\"ignore\")"
   ]
  },
  {
   "cell_type": "code",
   "execution_count": 282,
   "metadata": {},
   "outputs": [],
   "source": [
    "# Definir funcion para descomprimir el zip y leer el csv\n",
    "def read_zip_file(zip_file_name):\n",
    "    dataframe = None\n",
    "    path_original = os.path.join('', zip_file_name)\n",
    "\n",
    "    with TemporaryDirectory() as path_temporal:\n",
    "        with ZipFile(path_original, 'r') as zip_ref:\n",
    "            zip_ref.extractall(path_temporal)\n",
    "            archivos = zip_ref.namelist()\n",
    "\n",
    "            archivo_a_modificar = os.path.join(path_temporal, archivos[0])\n",
    "            print(archivo_a_modificar)\n",
    "\n",
    "\n",
    "            dataframe = pd.read_csv(archivo_a_modificar, low_memory=False)\n",
    "\n",
    "            return dataframe"
   ]
  },
  {
   "cell_type": "code",
   "execution_count": 283,
   "metadata": {
    "id": "4bcxk4BUDa2E"
   },
   "outputs": [
    {
     "name": "stdout",
     "output_type": "stream",
     "text": [
      "/tmp/tmpi5spfpln/records_202309301911.csv\n"
     ]
    }
   ],
   "source": [
    "# Cargar los datos\n",
    "df = read_zip_file(\"records_202309301911.zip\")"
   ]
  },
  {
   "cell_type": "markdown",
   "metadata": {},
   "source": [
    "### 2.2. Verificando los datos"
   ]
  },
  {
   "cell_type": "code",
   "execution_count": 284,
   "metadata": {},
   "outputs": [
    {
     "data": {
      "text/html": [
       "<div>\n",
       "<style scoped>\n",
       "    .dataframe tbody tr th:only-of-type {\n",
       "        vertical-align: middle;\n",
       "    }\n",
       "\n",
       "    .dataframe tbody tr th {\n",
       "        vertical-align: top;\n",
       "    }\n",
       "\n",
       "    .dataframe thead th {\n",
       "        text-align: right;\n",
       "    }\n",
       "</style>\n",
       "<table border=\"1\" class=\"dataframe\">\n",
       "  <thead>\n",
       "    <tr style=\"text-align: right;\">\n",
       "      <th></th>\n",
       "      <th>Open Contracting ID</th>\n",
       "      <th>Id</th>\n",
       "      <th>TenderId</th>\n",
       "      <th>TenderTitle</th>\n",
       "      <th>TenderStatus</th>\n",
       "      <th>TenderAwardCriteria</th>\n",
       "      <th>TenderAwardCriteriaDetails</th>\n",
       "      <th>TenderSubmissionMethod</th>\n",
       "      <th>TenderBidOpeningDate</th>\n",
       "      <th>TenderBidOpeningAddressStreetAddress</th>\n",
       "      <th>...</th>\n",
       "      <th>TenderProcurementIntentionProcuringEntityName</th>\n",
       "      <th>TenderProcurementIntentionStatus</th>\n",
       "      <th>TenderProcurementIntentionStatusDetails</th>\n",
       "      <th>TenderContractPeriodDurationInDays</th>\n",
       "      <th>TenderProcurementMethodRationale</th>\n",
       "      <th>TenderProcurementIntentionRationale</th>\n",
       "      <th>SecondStageId</th>\n",
       "      <th>TenderTechniquesHasFrameworkAgreement</th>\n",
       "      <th>TenderContractPeriodStartDate</th>\n",
       "      <th>TenderContractPeriodEndDate</th>\n",
       "    </tr>\n",
       "  </thead>\n",
       "  <tbody>\n",
       "    <tr>\n",
       "      <th>0</th>\n",
       "      <td>ocds-03ad3f-366154-1</td>\n",
       "      <td>366154-servicios-consultoria-admistracion-ejec...</td>\n",
       "      <td>366154-servicios-consultoria-admistracion-ejec...</td>\n",
       "      <td>LLAMADO MOPC Nº 76/2019 LPI. SERVICIOS DE CONS...</td>\n",
       "      <td>complete</td>\n",
       "      <td>priceOnly</td>\n",
       "      <td>Por Total</td>\n",
       "      <td>inPerson</td>\n",
       "      <td>2019-09-04 09:30:00.000000</td>\n",
       "      <td>Salón de Actos del MOPC - Edificio Central 3er...</td>\n",
       "      <td>...</td>\n",
       "      <td>NaN</td>\n",
       "      <td>NaN</td>\n",
       "      <td>NaN</td>\n",
       "      <td>NaN</td>\n",
       "      <td>NaN</td>\n",
       "      <td>NaN</td>\n",
       "      <td>NaN</td>\n",
       "      <td>NaN</td>\n",
       "      <td>NaN</td>\n",
       "      <td>NaN</td>\n",
       "    </tr>\n",
       "    <tr>\n",
       "      <th>1</th>\n",
       "      <td>ocds-03ad3f-375603-1</td>\n",
       "      <td>375603-llamado-mopc-lpi-04-2020-empresas-const...</td>\n",
       "      <td>375603-llamado-mopc-lpi-04-2020-empresas-const...</td>\n",
       "      <td>LLAMADO MOPC LPI 04/2020 EMPRESAS CONSTRUCTORA...</td>\n",
       "      <td>complete</td>\n",
       "      <td>priceOnly</td>\n",
       "      <td>Por Total</td>\n",
       "      <td>inPerson</td>\n",
       "      <td>2020-05-11 11:00:00.000000</td>\n",
       "      <td>SALON DE ACTOS 3ER PISO EDIFICIO CENTRAL MOPC ...</td>\n",
       "      <td>...</td>\n",
       "      <td>NaN</td>\n",
       "      <td>NaN</td>\n",
       "      <td>NaN</td>\n",
       "      <td>NaN</td>\n",
       "      <td>NaN</td>\n",
       "      <td>NaN</td>\n",
       "      <td>NaN</td>\n",
       "      <td>NaN</td>\n",
       "      <td>NaN</td>\n",
       "      <td>NaN</td>\n",
       "    </tr>\n",
       "    <tr>\n",
       "      <th>2</th>\n",
       "      <td>ocds-03ad3f-400260-1</td>\n",
       "      <td>400260-servicio-soporte-tecnico-renovacion-lic...</td>\n",
       "      <td>400260-servicio-soporte-tecnico-renovacion-lic...</td>\n",
       "      <td>SERVICIO DE SOPORTE TÉCNICO, RENOVACIÓN DE LIC...</td>\n",
       "      <td>complete</td>\n",
       "      <td>priceOnly</td>\n",
       "      <td>Por Total</td>\n",
       "      <td>inPerson</td>\n",
       "      <td>2021-10-22 09:15:00.000000</td>\n",
       "      <td>Edificio del Centro Financiero N°1 (Salon de A...</td>\n",
       "      <td>...</td>\n",
       "      <td>NaN</td>\n",
       "      <td>NaN</td>\n",
       "      <td>NaN</td>\n",
       "      <td>NaN</td>\n",
       "      <td>NaN</td>\n",
       "      <td>NaN</td>\n",
       "      <td>NaN</td>\n",
       "      <td>NaN</td>\n",
       "      <td>NaN</td>\n",
       "      <td>NaN</td>\n",
       "    </tr>\n",
       "    <tr>\n",
       "      <th>3</th>\n",
       "      <td>ocds-03ad3f-334139-1</td>\n",
       "      <td>334139-obras-rehabilitacion-mantenimiento-nive...</td>\n",
       "      <td>334139-obras-rehabilitacion-mantenimiento-nive...</td>\n",
       "      <td>OBRAS DE REHABILITACION Y MANTENIMIENTO POR NI...</td>\n",
       "      <td>complete</td>\n",
       "      <td>priceOnly</td>\n",
       "      <td>Por Total</td>\n",
       "      <td>inPerson</td>\n",
       "      <td>2017-12-06 09:00:00.000000</td>\n",
       "      <td>SALON DE ACTOS DEL MOPC, OLIVA ESQ. ALBERDI, MOPC</td>\n",
       "      <td>...</td>\n",
       "      <td>NaN</td>\n",
       "      <td>NaN</td>\n",
       "      <td>NaN</td>\n",
       "      <td>NaN</td>\n",
       "      <td>NaN</td>\n",
       "      <td>NaN</td>\n",
       "      <td>NaN</td>\n",
       "      <td>NaN</td>\n",
       "      <td>NaN</td>\n",
       "      <td>NaN</td>\n",
       "    </tr>\n",
       "    <tr>\n",
       "      <th>4</th>\n",
       "      <td>ocds-03ad3f-337437-1</td>\n",
       "      <td>337437-lpi-contratacion-servicios-fiscalizacio...</td>\n",
       "      <td>337437-lpi-contratacion-servicios-fiscalizacio...</td>\n",
       "      <td>LPI- CONTRATACION DE SERVICIOS PARA LA FISCALI...</td>\n",
       "      <td>complete</td>\n",
       "      <td>priceOnly</td>\n",
       "      <td>Por Total</td>\n",
       "      <td>inPerson</td>\n",
       "      <td>2017-12-07 09:30:00.000000</td>\n",
       "      <td>SALON DE ACTOS, OLIVA ESQ. ALBERDI, 3ER. PISO</td>\n",
       "      <td>...</td>\n",
       "      <td>NaN</td>\n",
       "      <td>NaN</td>\n",
       "      <td>NaN</td>\n",
       "      <td>NaN</td>\n",
       "      <td>NaN</td>\n",
       "      <td>NaN</td>\n",
       "      <td>NaN</td>\n",
       "      <td>NaN</td>\n",
       "      <td>NaN</td>\n",
       "      <td>NaN</td>\n",
       "    </tr>\n",
       "  </tbody>\n",
       "</table>\n",
       "<p>5 rows × 66 columns</p>\n",
       "</div>"
      ],
      "text/plain": [
       "    Open Contracting ID                                                 Id  \\\n",
       "0  ocds-03ad3f-366154-1  366154-servicios-consultoria-admistracion-ejec...   \n",
       "1  ocds-03ad3f-375603-1  375603-llamado-mopc-lpi-04-2020-empresas-const...   \n",
       "2  ocds-03ad3f-400260-1  400260-servicio-soporte-tecnico-renovacion-lic...   \n",
       "3  ocds-03ad3f-334139-1  334139-obras-rehabilitacion-mantenimiento-nive...   \n",
       "4  ocds-03ad3f-337437-1  337437-lpi-contratacion-servicios-fiscalizacio...   \n",
       "\n",
       "                                            TenderId  \\\n",
       "0  366154-servicios-consultoria-admistracion-ejec...   \n",
       "1  375603-llamado-mopc-lpi-04-2020-empresas-const...   \n",
       "2  400260-servicio-soporte-tecnico-renovacion-lic...   \n",
       "3  334139-obras-rehabilitacion-mantenimiento-nive...   \n",
       "4  337437-lpi-contratacion-servicios-fiscalizacio...   \n",
       "\n",
       "                                         TenderTitle TenderStatus  \\\n",
       "0  LLAMADO MOPC Nº 76/2019 LPI. SERVICIOS DE CONS...     complete   \n",
       "1  LLAMADO MOPC LPI 04/2020 EMPRESAS CONSTRUCTORA...     complete   \n",
       "2  SERVICIO DE SOPORTE TÉCNICO, RENOVACIÓN DE LIC...     complete   \n",
       "3  OBRAS DE REHABILITACION Y MANTENIMIENTO POR NI...     complete   \n",
       "4  LPI- CONTRATACION DE SERVICIOS PARA LA FISCALI...     complete   \n",
       "\n",
       "  TenderAwardCriteria TenderAwardCriteriaDetails TenderSubmissionMethod  \\\n",
       "0           priceOnly                  Por Total               inPerson   \n",
       "1           priceOnly                  Por Total               inPerson   \n",
       "2           priceOnly                  Por Total               inPerson   \n",
       "3           priceOnly                  Por Total               inPerson   \n",
       "4           priceOnly                  Por Total               inPerson   \n",
       "\n",
       "         TenderBidOpeningDate  \\\n",
       "0  2019-09-04 09:30:00.000000   \n",
       "1  2020-05-11 11:00:00.000000   \n",
       "2  2021-10-22 09:15:00.000000   \n",
       "3  2017-12-06 09:00:00.000000   \n",
       "4  2017-12-07 09:30:00.000000   \n",
       "\n",
       "                TenderBidOpeningAddressStreetAddress  ...  \\\n",
       "0  Salón de Actos del MOPC - Edificio Central 3er...  ...   \n",
       "1  SALON DE ACTOS 3ER PISO EDIFICIO CENTRAL MOPC ...  ...   \n",
       "2  Edificio del Centro Financiero N°1 (Salon de A...  ...   \n",
       "3  SALON DE ACTOS DEL MOPC, OLIVA ESQ. ALBERDI, MOPC  ...   \n",
       "4      SALON DE ACTOS, OLIVA ESQ. ALBERDI, 3ER. PISO  ...   \n",
       "\n",
       "  TenderProcurementIntentionProcuringEntityName  \\\n",
       "0                                           NaN   \n",
       "1                                           NaN   \n",
       "2                                           NaN   \n",
       "3                                           NaN   \n",
       "4                                           NaN   \n",
       "\n",
       "  TenderProcurementIntentionStatus TenderProcurementIntentionStatusDetails  \\\n",
       "0                              NaN                                     NaN   \n",
       "1                              NaN                                     NaN   \n",
       "2                              NaN                                     NaN   \n",
       "3                              NaN                                     NaN   \n",
       "4                              NaN                                     NaN   \n",
       "\n",
       "  TenderContractPeriodDurationInDays TenderProcurementMethodRationale  \\\n",
       "0                                NaN                              NaN   \n",
       "1                                NaN                              NaN   \n",
       "2                                NaN                              NaN   \n",
       "3                                NaN                              NaN   \n",
       "4                                NaN                              NaN   \n",
       "\n",
       "   TenderProcurementIntentionRationale  SecondStageId  \\\n",
       "0                                  NaN            NaN   \n",
       "1                                  NaN            NaN   \n",
       "2                                  NaN            NaN   \n",
       "3                                  NaN            NaN   \n",
       "4                                  NaN            NaN   \n",
       "\n",
       "  TenderTechniquesHasFrameworkAgreement TenderContractPeriodStartDate  \\\n",
       "0                                   NaN                           NaN   \n",
       "1                                   NaN                           NaN   \n",
       "2                                   NaN                           NaN   \n",
       "3                                   NaN                           NaN   \n",
       "4                                   NaN                           NaN   \n",
       "\n",
       "  TenderContractPeriodEndDate  \n",
       "0                         NaN  \n",
       "1                         NaN  \n",
       "2                         NaN  \n",
       "3                         NaN  \n",
       "4                         NaN  \n",
       "\n",
       "[5 rows x 66 columns]"
      ]
     },
     "execution_count": 284,
     "metadata": {},
     "output_type": "execute_result"
    }
   ],
   "source": [
    "# Verificar la base de datos\n",
    "df.head()"
   ]
  },
  {
   "cell_type": "code",
   "execution_count": 285,
   "metadata": {},
   "outputs": [
    {
     "name": "stdout",
     "output_type": "stream",
     "text": [
      "<class 'pandas.core.frame.DataFrame'>\n",
      "RangeIndex: 125237 entries, 0 to 125236\n",
      "Data columns (total 66 columns):\n",
      " #   Column                                         Non-Null Count   Dtype  \n",
      "---  ------                                         --------------   -----  \n",
      " 0   Open Contracting ID                            125237 non-null  object \n",
      " 1   Id                                             125237 non-null  object \n",
      " 2   TenderId                                       125092 non-null  object \n",
      " 3   TenderTitle                                    91547 non-null   object \n",
      " 4   TenderStatus                                   125080 non-null  object \n",
      " 5   TenderAwardCriteria                            91150 non-null   object \n",
      " 6   TenderAwardCriteriaDetails                     91163 non-null   object \n",
      " 7   TenderSubmissionMethod                         88316 non-null   object \n",
      " 8   TenderBidOpeningDate                           87876 non-null   object \n",
      " 9   TenderBidOpeningAddressStreetAddress           87970 non-null   object \n",
      " 10  TenderSubmissionMethodDetails                  88284 non-null   object \n",
      " 11  TenderEligibilityCriteria                      87579 non-null   object \n",
      " 12  TenderStatusDetails                            91547 non-null   object \n",
      " 13  TenderEnquiriesAddressStreetAddress            87970 non-null   object \n",
      " 14  TenderMainProcurementCategoryDetails           125092 non-null  object \n",
      " 15  TenderHasEnquiries                             91150 non-null   float64\n",
      " 16  TenderValueAmount                              90593 non-null   float64\n",
      " 17  TenderValueCurrency                            91150 non-null   object \n",
      " 18  TenderDatePublished                            91212 non-null   object \n",
      " 19  TenderTenderPeriodStartDate                    88236 non-null   object \n",
      " 20  TenderTenderPeriodEndDate                      88002 non-null   object \n",
      " 21  TenderTenderPeriodDurationInDays               87860 non-null   float64\n",
      " 22  TenderAwardPeriodStartDate                     90804 non-null   object \n",
      " 23  TenderEnquiryPeriodEndDate                     88284 non-null   object \n",
      " 24  TenderEnquiryPeriodStartDate                   88204 non-null   object \n",
      " 25  TenderEnquiryPeriodDurationInDays              87949 non-null   float64\n",
      " 26  TenderMainProcurementCategory                  91547 non-null   object \n",
      " 27  TenderAdditionalProcurementCategories          31652 non-null   object \n",
      " 28  TenderProcurementMethod                        91547 non-null   object \n",
      " 29  TenderProcurementMethodDetails                 91547 non-null   object \n",
      " 30  TenderProcuringEntityId                        91547 non-null   object \n",
      " 31  TenderProcuringEntityName                      91547 non-null   object \n",
      " 32  TenderNumberOfTenderers                        73519 non-null   float64\n",
      " 33  Language                                       125237 non-null  object \n",
      " 34  Ocid                                           125237 non-null  object \n",
      " 35  Date                                           125237 non-null  object \n",
      " 36  InitiationType                                 125237 non-null  object \n",
      " 37  BuyerId                                        124871 non-null  object \n",
      " 38  BuyerName                                      124871 non-null  object \n",
      " 39  PlanningIdentifier                             119741 non-null  float64\n",
      " 40  PlanningEstimatedDate                          119741 non-null  object \n",
      " 41  PlanningBudgetDescription                      119741 non-null  object \n",
      " 42  PlanningBudgetAmountCurrency                   119738 non-null  object \n",
      " 43  PlanningBudgetAmountAmount                     119741 non-null  float64\n",
      " 44  Tag                                            125237 non-null  object \n",
      " 45  TenderCoveredBy                                18843 non-null   object \n",
      " 46  TenderContractPeriodMaxExtentDate              23475 non-null   object \n",
      " 47  TenderTechniquesHasElectronicAuction           5226 non-null    float64\n",
      " 48  TenderProcurementIntentionId                   894 non-null     object \n",
      " 49  TenderProcurementIntentionUri                  894 non-null     object \n",
      " 50  TenderProcurementIntentionCategory             894 non-null     object \n",
      " 51  TenderProcurementIntentionTitle                894 non-null     object \n",
      " 52  TenderProcurementIntentionDescription          894 non-null     object \n",
      " 53  TenderProcurementIntentionStartDate            894 non-null     object \n",
      " 54  TenderProcurementIntentionPublishedDate        894 non-null     object \n",
      " 55  TenderProcurementIntentionProcuringEntityId    894 non-null     float64\n",
      " 56  TenderProcurementIntentionProcuringEntityName  894 non-null     object \n",
      " 57  TenderProcurementIntentionStatus               894 non-null     object \n",
      " 58  TenderProcurementIntentionStatusDetails        894 non-null     object \n",
      " 59  TenderContractPeriodDurationInDays             15595 non-null   float64\n",
      " 60  TenderProcurementMethodRationale               174 non-null     object \n",
      " 61  TenderProcurementIntentionRationale            174 non-null     object \n",
      " 62  SecondStageId                                  62 non-null      object \n",
      " 63  TenderTechniquesHasFrameworkAgreement          62 non-null      float64\n",
      " 64  TenderContractPeriodStartDate                  30 non-null      object \n",
      " 65  TenderContractPeriodEndDate                    30 non-null      object \n",
      "dtypes: float64(11), object(55)\n",
      "memory usage: 63.1+ MB\n"
     ]
    }
   ],
   "source": [
    "df.info()"
   ]
  },
  {
   "cell_type": "markdown",
   "metadata": {},
   "source": [
    "## 3. Pre-procesamiento de los datos"
   ]
  },
  {
   "cell_type": "markdown",
   "metadata": {},
   "source": [
    "### 3.1. Eliminar columnas que no se requieren para el procesamiento"
   ]
  },
  {
   "cell_type": "code",
   "execution_count": 286,
   "metadata": {},
   "outputs": [],
   "source": [
    "df.drop(columns=[ 'Open Contracting ID', 'Id', 'TenderId','TenderTitle', 'TenderAwardCriteriaDetails', 'Language',\n",
    "    'TenderBidOpeningDate', 'TenderBidOpeningAddressStreetAddress', 'TenderSubmissionMethodDetails', 'TenderStatusDetails',\n",
    "    'TenderEnquiriesAddressStreetAddress', 'TenderMainProcurementCategoryDetails', 'Ocid', 'BuyerName', \n",
    "    'TenderTenderPeriodStartDate', 'TenderTenderPeriodEndDate', 'TenderAwardPeriodStartDate', \n",
    "    'TenderEnquiryPeriodEndDate', 'TenderEnquiryPeriodStartDate', 'TenderContractPeriodMaxExtentDate',\n",
    "    'TenderProcurementIntentionCategory', 'TenderProcurementIntentionStatus', 'TenderContractPeriodDurationInDays',\n",
    "    'TenderAdditionalProcurementCategories', 'TenderProcurementMethodDetails', 'TenderProcuringEntityId', \n",
    "    'TenderProcurementMethodRationale', 'TenderProcurementIntentionRationale', 'TenderProcuringEntityName',\n",
    "    'TenderTechniquesHasFrameworkAgreement', 'TenderAdditionalProcurementCategories', 'TenderNumberOfTenderers',\n",
    "    'TenderTechniquesHasElectronicAuction', 'PlanningIdentifier', 'PlanningBudgetDescription', 'Tag', 'Date',\n",
    "    'TenderCoveredBy', 'TenderContractPeriodMaxExtentDate', 'TenderProcurementIntentionId', 'TenderProcurementIntentionUri',\n",
    "    'TenderProcurementIntentionTitle', 'TenderProcurementIntentionDescription', 'TenderProcurementIntentionStatusDetails',\n",
    "    'TenderProcurementIntentionStartDate', 'TenderProcurementIntentionProcuringEntityId', 'TenderProcurementIntentionProcuringEntityName',\n",
    "    'SecondStageId', 'TenderContractPeriodStartDate', 'TenderContractPeriodEndDate', 'TenderProcurementIntentionPublishedDate',\n",
    "    'PlanningEstimatedDate', 'TenderDatePublished', 'TenderValueCurrency', 'PlanningBudgetAmountCurrency'], axis=1, inplace=True)\n"
   ]
  },
  {
   "cell_type": "code",
   "execution_count": 287,
   "metadata": {},
   "outputs": [
    {
     "name": "stdout",
     "output_type": "stream",
     "text": [
      "<class 'pandas.core.frame.DataFrame'>\n",
      "RangeIndex: 125237 entries, 0 to 125236\n",
      "Data columns (total 13 columns):\n",
      " #   Column                             Non-Null Count   Dtype  \n",
      "---  ------                             --------------   -----  \n",
      " 0   TenderStatus                       125080 non-null  object \n",
      " 1   TenderAwardCriteria                91150 non-null   object \n",
      " 2   TenderSubmissionMethod             88316 non-null   object \n",
      " 3   TenderEligibilityCriteria          87579 non-null   object \n",
      " 4   TenderHasEnquiries                 91150 non-null   float64\n",
      " 5   TenderValueAmount                  90593 non-null   float64\n",
      " 6   TenderTenderPeriodDurationInDays   87860 non-null   float64\n",
      " 7   TenderEnquiryPeriodDurationInDays  87949 non-null   float64\n",
      " 8   TenderMainProcurementCategory      91547 non-null   object \n",
      " 9   TenderProcurementMethod            91547 non-null   object \n",
      " 10  InitiationType                     125237 non-null  object \n",
      " 11  BuyerId                            124871 non-null  object \n",
      " 12  PlanningBudgetAmountAmount         119741 non-null  float64\n",
      "dtypes: float64(5), object(8)\n",
      "memory usage: 12.4+ MB\n"
     ]
    }
   ],
   "source": [
    "df.info()"
   ]
  },
  {
   "cell_type": "markdown",
   "metadata": {},
   "source": [
    "### 3.2. Tratar valores faltantes"
   ]
  },
  {
   "cell_type": "code",
   "execution_count": 288,
   "metadata": {},
   "outputs": [
    {
     "data": {
      "text/plain": [
       "TenderStatus                           157\n",
       "TenderAwardCriteria                  34087\n",
       "TenderSubmissionMethod               36921\n",
       "TenderEligibilityCriteria            37658\n",
       "TenderHasEnquiries                   34087\n",
       "TenderValueAmount                    34644\n",
       "TenderTenderPeriodDurationInDays     37377\n",
       "TenderEnquiryPeriodDurationInDays    37288\n",
       "TenderMainProcurementCategory        33690\n",
       "TenderProcurementMethod              33690\n",
       "InitiationType                           0\n",
       "BuyerId                                366\n",
       "PlanningBudgetAmountAmount            5496\n",
       "dtype: int64"
      ]
     },
     "execution_count": 288,
     "metadata": {},
     "output_type": "execute_result"
    }
   ],
   "source": [
    "# Verificar valores faltantes\n",
    "df.isnull().sum()"
   ]
  },
  {
   "cell_type": "code",
   "execution_count": 289,
   "metadata": {},
   "outputs": [
    {
     "data": {
      "text/plain": [
       "TenderStatus                          True\n",
       "TenderAwardCriteria                   True\n",
       "TenderSubmissionMethod                True\n",
       "TenderEligibilityCriteria             True\n",
       "TenderHasEnquiries                    True\n",
       "TenderValueAmount                     True\n",
       "TenderTenderPeriodDurationInDays      True\n",
       "TenderEnquiryPeriodDurationInDays     True\n",
       "TenderMainProcurementCategory         True\n",
       "TenderProcurementMethod               True\n",
       "InitiationType                       False\n",
       "BuyerId                               True\n",
       "PlanningBudgetAmountAmount            True\n",
       "dtype: bool"
      ]
     },
     "execution_count": 289,
     "metadata": {},
     "output_type": "execute_result"
    }
   ],
   "source": [
    "df.isna().any()"
   ]
  },
  {
   "cell_type": "code",
   "execution_count": 290,
   "metadata": {},
   "outputs": [
    {
     "data": {
      "text/html": [
       "<div>\n",
       "<style scoped>\n",
       "    .dataframe tbody tr th:only-of-type {\n",
       "        vertical-align: middle;\n",
       "    }\n",
       "\n",
       "    .dataframe tbody tr th {\n",
       "        vertical-align: top;\n",
       "    }\n",
       "\n",
       "    .dataframe thead th {\n",
       "        text-align: right;\n",
       "    }\n",
       "</style>\n",
       "<table border=\"1\" class=\"dataframe\">\n",
       "  <thead>\n",
       "    <tr style=\"text-align: right;\">\n",
       "      <th></th>\n",
       "      <th>TenderStatus</th>\n",
       "      <th>TenderAwardCriteria</th>\n",
       "      <th>TenderSubmissionMethod</th>\n",
       "      <th>TenderEligibilityCriteria</th>\n",
       "      <th>TenderHasEnquiries</th>\n",
       "      <th>TenderValueAmount</th>\n",
       "      <th>TenderTenderPeriodDurationInDays</th>\n",
       "      <th>TenderEnquiryPeriodDurationInDays</th>\n",
       "      <th>TenderMainProcurementCategory</th>\n",
       "      <th>TenderProcurementMethod</th>\n",
       "      <th>InitiationType</th>\n",
       "      <th>BuyerId</th>\n",
       "      <th>PlanningBudgetAmountAmount</th>\n",
       "    </tr>\n",
       "  </thead>\n",
       "  <tbody>\n",
       "    <tr>\n",
       "      <th>8</th>\n",
       "      <td>NaN</td>\n",
       "      <td>NaN</td>\n",
       "      <td>NaN</td>\n",
       "      <td>NaN</td>\n",
       "      <td>NaN</td>\n",
       "      <td>NaN</td>\n",
       "      <td>NaN</td>\n",
       "      <td>NaN</td>\n",
       "      <td>NaN</td>\n",
       "      <td>NaN</td>\n",
       "      <td>tender</td>\n",
       "      <td>DNCP-SICP-CODE-20</td>\n",
       "      <td>2.500000e+10</td>\n",
       "    </tr>\n",
       "    <tr>\n",
       "      <th>18</th>\n",
       "      <td>NaN</td>\n",
       "      <td>NaN</td>\n",
       "      <td>NaN</td>\n",
       "      <td>NaN</td>\n",
       "      <td>NaN</td>\n",
       "      <td>NaN</td>\n",
       "      <td>NaN</td>\n",
       "      <td>NaN</td>\n",
       "      <td>NaN</td>\n",
       "      <td>NaN</td>\n",
       "      <td>tender</td>\n",
       "      <td>DNCP-SICP-CODE-20</td>\n",
       "      <td>3.573900e+09</td>\n",
       "    </tr>\n",
       "    <tr>\n",
       "      <th>113</th>\n",
       "      <td>NaN</td>\n",
       "      <td>NaN</td>\n",
       "      <td>NaN</td>\n",
       "      <td>NaN</td>\n",
       "      <td>NaN</td>\n",
       "      <td>NaN</td>\n",
       "      <td>NaN</td>\n",
       "      <td>NaN</td>\n",
       "      <td>NaN</td>\n",
       "      <td>NaN</td>\n",
       "      <td>tender</td>\n",
       "      <td>DNCP-SICP-CODE-20</td>\n",
       "      <td>1.276891e+09</td>\n",
       "    </tr>\n",
       "    <tr>\n",
       "      <th>146</th>\n",
       "      <td>NaN</td>\n",
       "      <td>NaN</td>\n",
       "      <td>NaN</td>\n",
       "      <td>NaN</td>\n",
       "      <td>NaN</td>\n",
       "      <td>NaN</td>\n",
       "      <td>NaN</td>\n",
       "      <td>NaN</td>\n",
       "      <td>NaN</td>\n",
       "      <td>NaN</td>\n",
       "      <td>tender</td>\n",
       "      <td>DNCP-SICP-CODE-306</td>\n",
       "      <td>2.589671e+10</td>\n",
       "    </tr>\n",
       "    <tr>\n",
       "      <th>300</th>\n",
       "      <td>NaN</td>\n",
       "      <td>NaN</td>\n",
       "      <td>NaN</td>\n",
       "      <td>NaN</td>\n",
       "      <td>NaN</td>\n",
       "      <td>NaN</td>\n",
       "      <td>NaN</td>\n",
       "      <td>NaN</td>\n",
       "      <td>NaN</td>\n",
       "      <td>NaN</td>\n",
       "      <td>tender</td>\n",
       "      <td>DNCP-SICP-CODE-20</td>\n",
       "      <td>2.250000e+10</td>\n",
       "    </tr>\n",
       "    <tr>\n",
       "      <th>...</th>\n",
       "      <td>...</td>\n",
       "      <td>...</td>\n",
       "      <td>...</td>\n",
       "      <td>...</td>\n",
       "      <td>...</td>\n",
       "      <td>...</td>\n",
       "      <td>...</td>\n",
       "      <td>...</td>\n",
       "      <td>...</td>\n",
       "      <td>...</td>\n",
       "      <td>...</td>\n",
       "      <td>...</td>\n",
       "      <td>...</td>\n",
       "    </tr>\n",
       "    <tr>\n",
       "      <th>120913</th>\n",
       "      <td>NaN</td>\n",
       "      <td>NaN</td>\n",
       "      <td>NaN</td>\n",
       "      <td>NaN</td>\n",
       "      <td>NaN</td>\n",
       "      <td>NaN</td>\n",
       "      <td>NaN</td>\n",
       "      <td>NaN</td>\n",
       "      <td>NaN</td>\n",
       "      <td>NaN</td>\n",
       "      <td>tender</td>\n",
       "      <td>DNCP-SICP-CODE-20</td>\n",
       "      <td>2.951405e+10</td>\n",
       "    </tr>\n",
       "    <tr>\n",
       "      <th>122435</th>\n",
       "      <td>NaN</td>\n",
       "      <td>NaN</td>\n",
       "      <td>NaN</td>\n",
       "      <td>NaN</td>\n",
       "      <td>NaN</td>\n",
       "      <td>NaN</td>\n",
       "      <td>NaN</td>\n",
       "      <td>NaN</td>\n",
       "      <td>NaN</td>\n",
       "      <td>NaN</td>\n",
       "      <td>tender</td>\n",
       "      <td>DNCP-SICP-CODE-21</td>\n",
       "      <td>6.000000e+07</td>\n",
       "    </tr>\n",
       "    <tr>\n",
       "      <th>122861</th>\n",
       "      <td>NaN</td>\n",
       "      <td>NaN</td>\n",
       "      <td>NaN</td>\n",
       "      <td>NaN</td>\n",
       "      <td>NaN</td>\n",
       "      <td>NaN</td>\n",
       "      <td>NaN</td>\n",
       "      <td>NaN</td>\n",
       "      <td>NaN</td>\n",
       "      <td>NaN</td>\n",
       "      <td>tender</td>\n",
       "      <td>DNCP-SICP-CODE-226</td>\n",
       "      <td>1.800000e+09</td>\n",
       "    </tr>\n",
       "    <tr>\n",
       "      <th>123217</th>\n",
       "      <td>NaN</td>\n",
       "      <td>NaN</td>\n",
       "      <td>NaN</td>\n",
       "      <td>NaN</td>\n",
       "      <td>NaN</td>\n",
       "      <td>NaN</td>\n",
       "      <td>NaN</td>\n",
       "      <td>NaN</td>\n",
       "      <td>NaN</td>\n",
       "      <td>NaN</td>\n",
       "      <td>tender</td>\n",
       "      <td>DNCP-SICP-CODE-298</td>\n",
       "      <td>3.660000e+10</td>\n",
       "    </tr>\n",
       "    <tr>\n",
       "      <th>123293</th>\n",
       "      <td>NaN</td>\n",
       "      <td>NaN</td>\n",
       "      <td>NaN</td>\n",
       "      <td>NaN</td>\n",
       "      <td>NaN</td>\n",
       "      <td>NaN</td>\n",
       "      <td>NaN</td>\n",
       "      <td>NaN</td>\n",
       "      <td>NaN</td>\n",
       "      <td>NaN</td>\n",
       "      <td>tender</td>\n",
       "      <td>DNCP-SICP-CODE-196</td>\n",
       "      <td>2.500000e+10</td>\n",
       "    </tr>\n",
       "  </tbody>\n",
       "</table>\n",
       "<p>157 rows × 13 columns</p>\n",
       "</div>"
      ],
      "text/plain": [
       "       TenderStatus TenderAwardCriteria TenderSubmissionMethod  \\\n",
       "8               NaN                 NaN                    NaN   \n",
       "18              NaN                 NaN                    NaN   \n",
       "113             NaN                 NaN                    NaN   \n",
       "146             NaN                 NaN                    NaN   \n",
       "300             NaN                 NaN                    NaN   \n",
       "...             ...                 ...                    ...   \n",
       "120913          NaN                 NaN                    NaN   \n",
       "122435          NaN                 NaN                    NaN   \n",
       "122861          NaN                 NaN                    NaN   \n",
       "123217          NaN                 NaN                    NaN   \n",
       "123293          NaN                 NaN                    NaN   \n",
       "\n",
       "       TenderEligibilityCriteria  TenderHasEnquiries  TenderValueAmount  \\\n",
       "8                            NaN                 NaN                NaN   \n",
       "18                           NaN                 NaN                NaN   \n",
       "113                          NaN                 NaN                NaN   \n",
       "146                          NaN                 NaN                NaN   \n",
       "300                          NaN                 NaN                NaN   \n",
       "...                          ...                 ...                ...   \n",
       "120913                       NaN                 NaN                NaN   \n",
       "122435                       NaN                 NaN                NaN   \n",
       "122861                       NaN                 NaN                NaN   \n",
       "123217                       NaN                 NaN                NaN   \n",
       "123293                       NaN                 NaN                NaN   \n",
       "\n",
       "        TenderTenderPeriodDurationInDays  TenderEnquiryPeriodDurationInDays  \\\n",
       "8                                    NaN                                NaN   \n",
       "18                                   NaN                                NaN   \n",
       "113                                  NaN                                NaN   \n",
       "146                                  NaN                                NaN   \n",
       "300                                  NaN                                NaN   \n",
       "...                                  ...                                ...   \n",
       "120913                               NaN                                NaN   \n",
       "122435                               NaN                                NaN   \n",
       "122861                               NaN                                NaN   \n",
       "123217                               NaN                                NaN   \n",
       "123293                               NaN                                NaN   \n",
       "\n",
       "       TenderMainProcurementCategory TenderProcurementMethod InitiationType  \\\n",
       "8                                NaN                     NaN         tender   \n",
       "18                               NaN                     NaN         tender   \n",
       "113                              NaN                     NaN         tender   \n",
       "146                              NaN                     NaN         tender   \n",
       "300                              NaN                     NaN         tender   \n",
       "...                              ...                     ...            ...   \n",
       "120913                           NaN                     NaN         tender   \n",
       "122435                           NaN                     NaN         tender   \n",
       "122861                           NaN                     NaN         tender   \n",
       "123217                           NaN                     NaN         tender   \n",
       "123293                           NaN                     NaN         tender   \n",
       "\n",
       "                   BuyerId  PlanningBudgetAmountAmount  \n",
       "8        DNCP-SICP-CODE-20                2.500000e+10  \n",
       "18       DNCP-SICP-CODE-20                3.573900e+09  \n",
       "113      DNCP-SICP-CODE-20                1.276891e+09  \n",
       "146     DNCP-SICP-CODE-306                2.589671e+10  \n",
       "300      DNCP-SICP-CODE-20                2.250000e+10  \n",
       "...                    ...                         ...  \n",
       "120913   DNCP-SICP-CODE-20                2.951405e+10  \n",
       "122435   DNCP-SICP-CODE-21                6.000000e+07  \n",
       "122861  DNCP-SICP-CODE-226                1.800000e+09  \n",
       "123217  DNCP-SICP-CODE-298                3.660000e+10  \n",
       "123293  DNCP-SICP-CODE-196                2.500000e+10  \n",
       "\n",
       "[157 rows x 13 columns]"
      ]
     },
     "execution_count": 290,
     "metadata": {},
     "output_type": "execute_result"
    }
   ],
   "source": [
    "# visualizando las filas con datos faltantes en 'TenderStatus'\n",
    "df.loc[df['TenderStatus'].isnull() == True]"
   ]
  },
  {
   "cell_type": "code",
   "execution_count": 291,
   "metadata": {},
   "outputs": [],
   "source": [
    "# Removiendo valores faltantes\n",
    "df.dropna(how = 'any', inplace = True)\n",
    "#df.fillna(0)"
   ]
  },
  {
   "cell_type": "code",
   "execution_count": 292,
   "metadata": {},
   "outputs": [
    {
     "data": {
      "text/plain": [
       "TenderStatus                         False\n",
       "TenderAwardCriteria                  False\n",
       "TenderSubmissionMethod               False\n",
       "TenderEligibilityCriteria            False\n",
       "TenderHasEnquiries                   False\n",
       "TenderValueAmount                    False\n",
       "TenderTenderPeriodDurationInDays     False\n",
       "TenderEnquiryPeriodDurationInDays    False\n",
       "TenderMainProcurementCategory        False\n",
       "TenderProcurementMethod              False\n",
       "InitiationType                       False\n",
       "BuyerId                              False\n",
       "PlanningBudgetAmountAmount           False\n",
       "dtype: bool"
      ]
     },
     "execution_count": 292,
     "metadata": {},
     "output_type": "execute_result"
    }
   ],
   "source": [
    "#Revalidar:\n",
    "df.isna().any() "
   ]
  },
  {
   "cell_type": "code",
   "execution_count": 293,
   "metadata": {},
   "outputs": [],
   "source": [
    "# Eliminar registros que tengan TenderStatus active\n",
    "df = df[df['TenderStatus'] != 'active']"
   ]
  },
  {
   "cell_type": "code",
   "execution_count": 294,
   "metadata": {
    "id": "N9GudpTkHHAb"
   },
   "outputs": [
    {
     "data": {
      "text/html": [
       "<div>\n",
       "<style scoped>\n",
       "    .dataframe tbody tr th:only-of-type {\n",
       "        vertical-align: middle;\n",
       "    }\n",
       "\n",
       "    .dataframe tbody tr th {\n",
       "        vertical-align: top;\n",
       "    }\n",
       "\n",
       "    .dataframe thead th {\n",
       "        text-align: right;\n",
       "    }\n",
       "</style>\n",
       "<table border=\"1\" class=\"dataframe\">\n",
       "  <thead>\n",
       "    <tr style=\"text-align: right;\">\n",
       "      <th></th>\n",
       "      <th>TenderStatus</th>\n",
       "      <th>TenderAwardCriteria</th>\n",
       "      <th>TenderSubmissionMethod</th>\n",
       "      <th>TenderEligibilityCriteria</th>\n",
       "      <th>TenderHasEnquiries</th>\n",
       "      <th>TenderValueAmount</th>\n",
       "      <th>TenderTenderPeriodDurationInDays</th>\n",
       "      <th>TenderEnquiryPeriodDurationInDays</th>\n",
       "      <th>TenderMainProcurementCategory</th>\n",
       "      <th>TenderProcurementMethod</th>\n",
       "      <th>InitiationType</th>\n",
       "      <th>BuyerId</th>\n",
       "      <th>PlanningBudgetAmountAmount</th>\n",
       "    </tr>\n",
       "  </thead>\n",
       "  <tbody>\n",
       "    <tr>\n",
       "      <th>0</th>\n",
       "      <td>complete</td>\n",
       "      <td>priceOnly</td>\n",
       "      <td>inPerson</td>\n",
       "      <td>Restricciones: INHABILIDADES PREVISTAS EN EL A...</td>\n",
       "      <td>0.0</td>\n",
       "      <td>1.200000e+10</td>\n",
       "      <td>53.0</td>\n",
       "      <td>37.0</td>\n",
       "      <td>services</td>\n",
       "      <td>open</td>\n",
       "      <td>tender</td>\n",
       "      <td>DNCP-SICP-CODE-20</td>\n",
       "      <td>1.200000e+10</td>\n",
       "    </tr>\n",
       "    <tr>\n",
       "      <th>1</th>\n",
       "      <td>complete</td>\n",
       "      <td>priceOnly</td>\n",
       "      <td>inPerson</td>\n",
       "      <td>Restricciones: INHABILIDADES PREVISTAS EN EL A...</td>\n",
       "      <td>1.0</td>\n",
       "      <td>4.505000e+11</td>\n",
       "      <td>75.0</td>\n",
       "      <td>48.0</td>\n",
       "      <td>works</td>\n",
       "      <td>open</td>\n",
       "      <td>tender</td>\n",
       "      <td>DNCP-SICP-CODE-20</td>\n",
       "      <td>4.505000e+11</td>\n",
       "    </tr>\n",
       "    <tr>\n",
       "      <th>2</th>\n",
       "      <td>complete</td>\n",
       "      <td>priceOnly</td>\n",
       "      <td>inPerson</td>\n",
       "      <td>Restricciones: INHABILIDADES PREVISTAS EN EL A...</td>\n",
       "      <td>0.0</td>\n",
       "      <td>1.272079e+08</td>\n",
       "      <td>20.0</td>\n",
       "      <td>2.0</td>\n",
       "      <td>services</td>\n",
       "      <td>open</td>\n",
       "      <td>tender</td>\n",
       "      <td>DNCP-SICP-CODE-304</td>\n",
       "      <td>1.272079e+08</td>\n",
       "    </tr>\n",
       "    <tr>\n",
       "      <th>3</th>\n",
       "      <td>complete</td>\n",
       "      <td>priceOnly</td>\n",
       "      <td>inPerson</td>\n",
       "      <td>Restricciones: INHABILIDADES PREVISTAS EN EL A...</td>\n",
       "      <td>0.0</td>\n",
       "      <td>1.768171e+11</td>\n",
       "      <td>40.0</td>\n",
       "      <td>33.0</td>\n",
       "      <td>works</td>\n",
       "      <td>open</td>\n",
       "      <td>tender</td>\n",
       "      <td>DNCP-SICP-CODE-20</td>\n",
       "      <td>1.912455e+11</td>\n",
       "    </tr>\n",
       "    <tr>\n",
       "      <th>4</th>\n",
       "      <td>complete</td>\n",
       "      <td>priceOnly</td>\n",
       "      <td>inPerson</td>\n",
       "      <td>Restricciones: INHABILIDADES PREVISTAS EN EL A...</td>\n",
       "      <td>0.0</td>\n",
       "      <td>1.610000e+10</td>\n",
       "      <td>41.0</td>\n",
       "      <td>34.0</td>\n",
       "      <td>services</td>\n",
       "      <td>open</td>\n",
       "      <td>tender</td>\n",
       "      <td>DNCP-SICP-CODE-20</td>\n",
       "      <td>1.610000e+10</td>\n",
       "    </tr>\n",
       "    <tr>\n",
       "      <th>...</th>\n",
       "      <td>...</td>\n",
       "      <td>...</td>\n",
       "      <td>...</td>\n",
       "      <td>...</td>\n",
       "      <td>...</td>\n",
       "      <td>...</td>\n",
       "      <td>...</td>\n",
       "      <td>...</td>\n",
       "      <td>...</td>\n",
       "      <td>...</td>\n",
       "      <td>...</td>\n",
       "      <td>...</td>\n",
       "      <td>...</td>\n",
       "    </tr>\n",
       "    <tr>\n",
       "      <th>125231</th>\n",
       "      <td>complete</td>\n",
       "      <td>priceOnly</td>\n",
       "      <td>inPerson</td>\n",
       "      <td>Restricciones: INHABILIDADES PREVISTAS EN EL A...</td>\n",
       "      <td>0.0</td>\n",
       "      <td>1.200000e+08</td>\n",
       "      <td>6.0</td>\n",
       "      <td>2.0</td>\n",
       "      <td>works</td>\n",
       "      <td>open</td>\n",
       "      <td>tender</td>\n",
       "      <td>DNCP-SICP-CODE-231</td>\n",
       "      <td>1.200000e+08</td>\n",
       "    </tr>\n",
       "    <tr>\n",
       "      <th>125232</th>\n",
       "      <td>complete</td>\n",
       "      <td>priceOnly</td>\n",
       "      <td>inPerson</td>\n",
       "      <td>Restricciones: INHABILIDADES PREVISTAS EN EL A...</td>\n",
       "      <td>0.0</td>\n",
       "      <td>1.400000e+08</td>\n",
       "      <td>15.0</td>\n",
       "      <td>12.0</td>\n",
       "      <td>goods</td>\n",
       "      <td>open</td>\n",
       "      <td>tender</td>\n",
       "      <td>DNCP-SICP-CODE-120</td>\n",
       "      <td>1.400000e+08</td>\n",
       "    </tr>\n",
       "    <tr>\n",
       "      <th>125233</th>\n",
       "      <td>complete</td>\n",
       "      <td>priceOnly</td>\n",
       "      <td>inPerson</td>\n",
       "      <td>Restricciones: INHABILIDADES PREVISTAS EN EL A...</td>\n",
       "      <td>0.0</td>\n",
       "      <td>5.705237e+07</td>\n",
       "      <td>5.0</td>\n",
       "      <td>2.0</td>\n",
       "      <td>works</td>\n",
       "      <td>open</td>\n",
       "      <td>tender</td>\n",
       "      <td>DNCP-SICP-CODE-37</td>\n",
       "      <td>6.000000e+07</td>\n",
       "    </tr>\n",
       "    <tr>\n",
       "      <th>125234</th>\n",
       "      <td>complete</td>\n",
       "      <td>priceOnly</td>\n",
       "      <td>inPerson</td>\n",
       "      <td>Restricciones: INHABILIDADES PREVISTAS EN EL A...</td>\n",
       "      <td>0.0</td>\n",
       "      <td>5.000000e+07</td>\n",
       "      <td>5.0</td>\n",
       "      <td>1.0</td>\n",
       "      <td>goods</td>\n",
       "      <td>open</td>\n",
       "      <td>tender</td>\n",
       "      <td>DNCP-SICP-CODE-355</td>\n",
       "      <td>5.000000e+07</td>\n",
       "    </tr>\n",
       "    <tr>\n",
       "      <th>125236</th>\n",
       "      <td>complete</td>\n",
       "      <td>priceOnly</td>\n",
       "      <td>inPerson</td>\n",
       "      <td>Restricciones: INHABILIDADES PREVISTAS EN EL A...</td>\n",
       "      <td>0.0</td>\n",
       "      <td>3.517000e+08</td>\n",
       "      <td>18.0</td>\n",
       "      <td>6.0</td>\n",
       "      <td>services</td>\n",
       "      <td>open</td>\n",
       "      <td>tender</td>\n",
       "      <td>DNCP-SICP-CODE-169</td>\n",
       "      <td>3.517000e+08</td>\n",
       "    </tr>\n",
       "  </tbody>\n",
       "</table>\n",
       "<p>85515 rows × 13 columns</p>\n",
       "</div>"
      ],
      "text/plain": [
       "       TenderStatus TenderAwardCriteria TenderSubmissionMethod  \\\n",
       "0          complete           priceOnly               inPerson   \n",
       "1          complete           priceOnly               inPerson   \n",
       "2          complete           priceOnly               inPerson   \n",
       "3          complete           priceOnly               inPerson   \n",
       "4          complete           priceOnly               inPerson   \n",
       "...             ...                 ...                    ...   \n",
       "125231     complete           priceOnly               inPerson   \n",
       "125232     complete           priceOnly               inPerson   \n",
       "125233     complete           priceOnly               inPerson   \n",
       "125234     complete           priceOnly               inPerson   \n",
       "125236     complete           priceOnly               inPerson   \n",
       "\n",
       "                                TenderEligibilityCriteria  TenderHasEnquiries  \\\n",
       "0       Restricciones: INHABILIDADES PREVISTAS EN EL A...                 0.0   \n",
       "1       Restricciones: INHABILIDADES PREVISTAS EN EL A...                 1.0   \n",
       "2       Restricciones: INHABILIDADES PREVISTAS EN EL A...                 0.0   \n",
       "3       Restricciones: INHABILIDADES PREVISTAS EN EL A...                 0.0   \n",
       "4       Restricciones: INHABILIDADES PREVISTAS EN EL A...                 0.0   \n",
       "...                                                   ...                 ...   \n",
       "125231  Restricciones: INHABILIDADES PREVISTAS EN EL A...                 0.0   \n",
       "125232  Restricciones: INHABILIDADES PREVISTAS EN EL A...                 0.0   \n",
       "125233  Restricciones: INHABILIDADES PREVISTAS EN EL A...                 0.0   \n",
       "125234  Restricciones: INHABILIDADES PREVISTAS EN EL A...                 0.0   \n",
       "125236  Restricciones: INHABILIDADES PREVISTAS EN EL A...                 0.0   \n",
       "\n",
       "        TenderValueAmount  TenderTenderPeriodDurationInDays  \\\n",
       "0            1.200000e+10                              53.0   \n",
       "1            4.505000e+11                              75.0   \n",
       "2            1.272079e+08                              20.0   \n",
       "3            1.768171e+11                              40.0   \n",
       "4            1.610000e+10                              41.0   \n",
       "...                   ...                               ...   \n",
       "125231       1.200000e+08                               6.0   \n",
       "125232       1.400000e+08                              15.0   \n",
       "125233       5.705237e+07                               5.0   \n",
       "125234       5.000000e+07                               5.0   \n",
       "125236       3.517000e+08                              18.0   \n",
       "\n",
       "        TenderEnquiryPeriodDurationInDays TenderMainProcurementCategory  \\\n",
       "0                                    37.0                      services   \n",
       "1                                    48.0                         works   \n",
       "2                                     2.0                      services   \n",
       "3                                    33.0                         works   \n",
       "4                                    34.0                      services   \n",
       "...                                   ...                           ...   \n",
       "125231                                2.0                         works   \n",
       "125232                               12.0                         goods   \n",
       "125233                                2.0                         works   \n",
       "125234                                1.0                         goods   \n",
       "125236                                6.0                      services   \n",
       "\n",
       "       TenderProcurementMethod InitiationType             BuyerId  \\\n",
       "0                         open         tender   DNCP-SICP-CODE-20   \n",
       "1                         open         tender   DNCP-SICP-CODE-20   \n",
       "2                         open         tender  DNCP-SICP-CODE-304   \n",
       "3                         open         tender   DNCP-SICP-CODE-20   \n",
       "4                         open         tender   DNCP-SICP-CODE-20   \n",
       "...                        ...            ...                 ...   \n",
       "125231                    open         tender  DNCP-SICP-CODE-231   \n",
       "125232                    open         tender  DNCP-SICP-CODE-120   \n",
       "125233                    open         tender   DNCP-SICP-CODE-37   \n",
       "125234                    open         tender  DNCP-SICP-CODE-355   \n",
       "125236                    open         tender  DNCP-SICP-CODE-169   \n",
       "\n",
       "        PlanningBudgetAmountAmount  \n",
       "0                     1.200000e+10  \n",
       "1                     4.505000e+11  \n",
       "2                     1.272079e+08  \n",
       "3                     1.912455e+11  \n",
       "4                     1.610000e+10  \n",
       "...                            ...  \n",
       "125231                1.200000e+08  \n",
       "125232                1.400000e+08  \n",
       "125233                6.000000e+07  \n",
       "125234                5.000000e+07  \n",
       "125236                3.517000e+08  \n",
       "\n",
       "[85515 rows x 13 columns]"
      ]
     },
     "execution_count": 294,
     "metadata": {},
     "output_type": "execute_result"
    }
   ],
   "source": [
    "##  Visualizar los datos\n",
    "df"
   ]
  },
  {
   "cell_type": "code",
   "execution_count": 295,
   "metadata": {
    "id": "Go9BzdqrHJna"
   },
   "outputs": [
    {
     "name": "stdout",
     "output_type": "stream",
     "text": [
      "<class 'pandas.core.frame.DataFrame'>\n",
      "Int64Index: 85515 entries, 0 to 125236\n",
      "Data columns (total 13 columns):\n",
      " #   Column                             Non-Null Count  Dtype  \n",
      "---  ------                             --------------  -----  \n",
      " 0   TenderStatus                       85515 non-null  object \n",
      " 1   TenderAwardCriteria                85515 non-null  object \n",
      " 2   TenderSubmissionMethod             85515 non-null  object \n",
      " 3   TenderEligibilityCriteria          85515 non-null  object \n",
      " 4   TenderHasEnquiries                 85515 non-null  float64\n",
      " 5   TenderValueAmount                  85515 non-null  float64\n",
      " 6   TenderTenderPeriodDurationInDays   85515 non-null  float64\n",
      " 7   TenderEnquiryPeriodDurationInDays  85515 non-null  float64\n",
      " 8   TenderMainProcurementCategory      85515 non-null  object \n",
      " 9   TenderProcurementMethod            85515 non-null  object \n",
      " 10  InitiationType                     85515 non-null  object \n",
      " 11  BuyerId                            85515 non-null  object \n",
      " 12  PlanningBudgetAmountAmount         85515 non-null  float64\n",
      "dtypes: float64(5), object(8)\n",
      "memory usage: 9.1+ MB\n"
     ]
    }
   ],
   "source": [
    "# Verificar el tamanho del dataset\n",
    "df.info()"
   ]
  },
  {
   "cell_type": "markdown",
   "metadata": {},
   "source": [
    "## 4. Transformación de datos"
   ]
  },
  {
   "cell_type": "markdown",
   "metadata": {},
   "source": [
    "### 4.1. Cambiando el tipo de dato"
   ]
  },
  {
   "cell_type": "code",
   "execution_count": 296,
   "metadata": {},
   "outputs": [],
   "source": [
    "# Hacer que los estados sean exitoso(1) o no exitoso(1)\n",
    "df['TenderStatus'] = np.where(df.TenderStatus == 'complete',1,0)"
   ]
  },
  {
   "cell_type": "code",
   "execution_count": 297,
   "metadata": {},
   "outputs": [],
   "source": [
    "# Convirtiendo los datos categóricos\n",
    "df['TenderAwardCriteria'] = df['TenderAwardCriteria'].astype('category')\n",
    "df['TenderSubmissionMethod'] = df['TenderSubmissionMethod'].astype('category')\n",
    "df['TenderEligibilityCriteria'] = df['TenderEligibilityCriteria'].astype('category')\n",
    "df['TenderHasEnquiries'] = df['TenderHasEnquiries'].astype('category')\n",
    "df['TenderMainProcurementCategory'] = df['TenderMainProcurementCategory'].astype('category')\n",
    "df['TenderProcurementMethod'] = df['TenderProcurementMethod'].astype('category')\n",
    "df['InitiationType'] = df['InitiationType'].astype('category')\n",
    "df['BuyerId'] = df['BuyerId'].astype('category')"
   ]
  },
  {
   "cell_type": "code",
   "execution_count": 298,
   "metadata": {},
   "outputs": [],
   "source": [
    "# Convertir los montos a millones\n",
    "df['TenderValueAmount'] = df['TenderValueAmount']/1000000\n",
    "df['PlanningBudgetAmountAmount'] = df['PlanningBudgetAmountAmount']/1000000"
   ]
  },
  {
   "cell_type": "code",
   "execution_count": 299,
   "metadata": {},
   "outputs": [
    {
     "name": "stdout",
     "output_type": "stream",
     "text": [
      "<class 'pandas.core.frame.DataFrame'>\n",
      "Int64Index: 85515 entries, 0 to 125236\n",
      "Data columns (total 13 columns):\n",
      " #   Column                             Non-Null Count  Dtype   \n",
      "---  ------                             --------------  -----   \n",
      " 0   TenderStatus                       85515 non-null  int64   \n",
      " 1   TenderAwardCriteria                85515 non-null  category\n",
      " 2   TenderSubmissionMethod             85515 non-null  category\n",
      " 3   TenderEligibilityCriteria          85515 non-null  category\n",
      " 4   TenderHasEnquiries                 85515 non-null  category\n",
      " 5   TenderValueAmount                  85515 non-null  float64 \n",
      " 6   TenderTenderPeriodDurationInDays   85515 non-null  float64 \n",
      " 7   TenderEnquiryPeriodDurationInDays  85515 non-null  float64 \n",
      " 8   TenderMainProcurementCategory      85515 non-null  category\n",
      " 9   TenderProcurementMethod            85515 non-null  category\n",
      " 10  InitiationType                     85515 non-null  category\n",
      " 11  BuyerId                            85515 non-null  category\n",
      " 12  PlanningBudgetAmountAmount         85515 non-null  float64 \n",
      "dtypes: category(8), float64(4), int64(1)\n",
      "memory usage: 4.7 MB\n"
     ]
    }
   ],
   "source": [
    "# Verificar como quedaron las conversiones\n",
    "df.info()"
   ]
  },
  {
   "cell_type": "code",
   "execution_count": 300,
   "metadata": {
    "id": "F27lQ6qnHO58",
    "scrolled": true
   },
   "outputs": [
    {
     "data": {
      "text/html": [
       "<div>\n",
       "<style scoped>\n",
       "    .dataframe tbody tr th:only-of-type {\n",
       "        vertical-align: middle;\n",
       "    }\n",
       "\n",
       "    .dataframe tbody tr th {\n",
       "        vertical-align: top;\n",
       "    }\n",
       "\n",
       "    .dataframe thead th {\n",
       "        text-align: right;\n",
       "    }\n",
       "</style>\n",
       "<table border=\"1\" class=\"dataframe\">\n",
       "  <thead>\n",
       "    <tr style=\"text-align: right;\">\n",
       "      <th></th>\n",
       "      <th>TenderStatus</th>\n",
       "      <th>TenderValueAmount</th>\n",
       "      <th>TenderTenderPeriodDurationInDays</th>\n",
       "      <th>TenderEnquiryPeriodDurationInDays</th>\n",
       "      <th>PlanningBudgetAmountAmount</th>\n",
       "    </tr>\n",
       "  </thead>\n",
       "  <tbody>\n",
       "    <tr>\n",
       "      <th>count</th>\n",
       "      <td>85515.00</td>\n",
       "      <td>85515.00</td>\n",
       "      <td>85515.00</td>\n",
       "      <td>85515.00</td>\n",
       "      <td>85515.00</td>\n",
       "    </tr>\n",
       "    <tr>\n",
       "      <th>mean</th>\n",
       "      <td>0.89</td>\n",
       "      <td>1594.31</td>\n",
       "      <td>13.90</td>\n",
       "      <td>7.85</td>\n",
       "      <td>1864.00</td>\n",
       "    </tr>\n",
       "    <tr>\n",
       "      <th>std</th>\n",
       "      <td>0.31</td>\n",
       "      <td>21719.56</td>\n",
       "      <td>16.12</td>\n",
       "      <td>13.75</td>\n",
       "      <td>24840.50</td>\n",
       "    </tr>\n",
       "    <tr>\n",
       "      <th>min</th>\n",
       "      <td>0.00</td>\n",
       "      <td>0.00</td>\n",
       "      <td>-52.00</td>\n",
       "      <td>-364.00</td>\n",
       "      <td>0.00</td>\n",
       "    </tr>\n",
       "    <tr>\n",
       "      <th>25%</th>\n",
       "      <td>1.00</td>\n",
       "      <td>40.96</td>\n",
       "      <td>7.00</td>\n",
       "      <td>2.00</td>\n",
       "      <td>48.00</td>\n",
       "    </tr>\n",
       "    <tr>\n",
       "      <th>50%</th>\n",
       "      <td>1.00</td>\n",
       "      <td>117.58</td>\n",
       "      <td>10.00</td>\n",
       "      <td>5.00</td>\n",
       "      <td>124.25</td>\n",
       "    </tr>\n",
       "    <tr>\n",
       "      <th>75%</th>\n",
       "      <td>1.00</td>\n",
       "      <td>260.00</td>\n",
       "      <td>16.00</td>\n",
       "      <td>9.00</td>\n",
       "      <td>280.39</td>\n",
       "    </tr>\n",
       "    <tr>\n",
       "      <th>max</th>\n",
       "      <td>1.00</td>\n",
       "      <td>3138134.76</td>\n",
       "      <td>735.00</td>\n",
       "      <td>732.00</td>\n",
       "      <td>3138134.76</td>\n",
       "    </tr>\n",
       "  </tbody>\n",
       "</table>\n",
       "</div>"
      ],
      "text/plain": [
       "       TenderStatus  TenderValueAmount  TenderTenderPeriodDurationInDays  \\\n",
       "count      85515.00           85515.00                          85515.00   \n",
       "mean           0.89            1594.31                             13.90   \n",
       "std            0.31           21719.56                             16.12   \n",
       "min            0.00               0.00                            -52.00   \n",
       "25%            1.00              40.96                              7.00   \n",
       "50%            1.00             117.58                             10.00   \n",
       "75%            1.00             260.00                             16.00   \n",
       "max            1.00         3138134.76                            735.00   \n",
       "\n",
       "       TenderEnquiryPeriodDurationInDays  PlanningBudgetAmountAmount  \n",
       "count                           85515.00                    85515.00  \n",
       "mean                                7.85                     1864.00  \n",
       "std                                13.75                    24840.50  \n",
       "min                              -364.00                        0.00  \n",
       "25%                                 2.00                       48.00  \n",
       "50%                                 5.00                      124.25  \n",
       "75%                                 9.00                      280.39  \n",
       "max                               732.00                  3138134.76  "
      ]
     },
     "execution_count": 300,
     "metadata": {},
     "output_type": "execute_result"
    }
   ],
   "source": [
    "## Estadisticas descriptivas\n",
    "df.describe().round(2)"
   ]
  },
  {
   "cell_type": "markdown",
   "metadata": {},
   "source": [
    "## 5. Remover valores atipicos"
   ]
  },
  {
   "cell_type": "code",
   "execution_count": 301,
   "metadata": {
    "id": "RQEYCYoUNKp2"
   },
   "outputs": [
    {
     "data": {
      "text/plain": [
       "{'whiskers': [<matplotlib.lines.Line2D at 0x7f0ca4597460>,\n",
       "  <matplotlib.lines.Line2D at 0x7f0ca4594f10>],\n",
       " 'caps': [<matplotlib.lines.Line2D at 0x7f0ca4596b30>,\n",
       "  <matplotlib.lines.Line2D at 0x7f0ca45965c0>],\n",
       " 'boxes': [<matplotlib.lines.Line2D at 0x7f0ca4595e10>],\n",
       " 'medians': [<matplotlib.lines.Line2D at 0x7f0ca4595750>],\n",
       " 'fliers': [<matplotlib.lines.Line2D at 0x7f0ca4595840>],\n",
       " 'means': []}"
      ]
     },
     "execution_count": 301,
     "metadata": {},
     "output_type": "execute_result"
    },
    {
     "data": {
      "image/png": "[encoded data removed]",
      "text/plain": [
       "<Figure size 640x480 with 1 Axes>"
      ]
     },
     "metadata": {},
     "output_type": "display_data"
    }
   ],
   "source": [
    "# crear grafico de caja\n",
    "plt.boxplot(df['TenderTenderPeriodDurationInDays'])\n"
   ]
  },
  {
   "cell_type": "code",
   "execution_count": 302,
   "metadata": {
    "id": "DuXn92YFDluX"
   },
   "outputs": [],
   "source": [
    "q1 = np.percentile(df['TenderTenderPeriodDurationInDays'], 25)\n",
    "q3 = np.percentile(df['TenderTenderPeriodDurationInDays'], 75)"
   ]
  },
  {
   "cell_type": "code",
   "execution_count": 303,
   "metadata": {},
   "outputs": [
    {
     "name": "stdout",
     "output_type": "stream",
     "text": [
      "Valores atípicos: [-52.0]\n"
     ]
    }
   ],
   "source": [
    "iqr = q3 - q1\n",
    "lower_threshold = q1 - 1.5 * iqr\n",
    "upper_threshold = q3 + 1.5 * iqr\n",
    "outliers = [x for x in df['TenderTenderPeriodDurationInDays'] if x < lower_threshold ]\n",
    "\n",
    "print(\"Valores atípicos:\", outliers)"
   ]
  },
  {
   "cell_type": "code",
   "execution_count": 304,
   "metadata": {},
   "outputs": [],
   "source": [
    "# Eliminar valor atipico\n",
    "df = df[df['TenderTenderPeriodDurationInDays'] >= 0]"
   ]
  },
  {
   "cell_type": "code",
   "execution_count": 305,
   "metadata": {},
   "outputs": [
    {
     "data": {
      "text/plain": [
       "{'whiskers': [<matplotlib.lines.Line2D at 0x7f0ca51fa710>,\n",
       "  <matplotlib.lines.Line2D at 0x7f0ca51f8d90>],\n",
       " 'caps': [<matplotlib.lines.Line2D at 0x7f0ca51faf80>,\n",
       "  <matplotlib.lines.Line2D at 0x7f0ca51f99f0>],\n",
       " 'boxes': [<matplotlib.lines.Line2D at 0x7f0ca51fa6b0>],\n",
       " 'medians': [<matplotlib.lines.Line2D at 0x7f0ca51f8730>],\n",
       " 'fliers': [<matplotlib.lines.Line2D at 0x7f0ca51fa5c0>],\n",
       " 'means': []}"
      ]
     },
     "execution_count": 305,
     "metadata": {},
     "output_type": "execute_result"
    },
    {
     "data": {
      "image/png": "[encoded data removed]",
      "text/plain": [
       "<Figure size 640x480 with 1 Axes>"
      ]
     },
     "metadata": {},
     "output_type": "display_data"
    }
   ],
   "source": [
    "# crear grafico de caja\n",
    "plt.boxplot(df['TenderEnquiryPeriodDurationInDays'])"
   ]
  },
  {
   "cell_type": "code",
   "execution_count": 306,
   "metadata": {},
   "outputs": [],
   "source": [
    "q1 = np.percentile(df['TenderEnquiryPeriodDurationInDays'], 25)\n",
    "q3 = np.percentile(df['TenderEnquiryPeriodDurationInDays'], 75)"
   ]
  },
  {
   "cell_type": "code",
   "execution_count": 307,
   "metadata": {},
   "outputs": [
    {
     "name": "stdout",
     "output_type": "stream",
     "text": [
      "Valores atípicos: [-23.0, -10.0, -26.0, -17.0, -16.0, -16.0, -14.0, -12.0, -25.0, -18.0, -26.0, -17.0, -21.0, -21.0, -24.0, -24.0, -15.0, -24.0, -14.0, -17.0, -21.0, -15.0, -24.0, -14.0, -17.0, -21.0, -14.0, -22.0, -17.0, -9.0, -327.0, -21.0, -15.0, -364.0, -10.0, -20.0, -14.0, -17.0, -21.0, -332.0, -15.0, -16.0, -23.0, -21.0, -26.0, -26.0, -20.0, -23.0, -13.0, -18.0, -23.0, -18.0, -13.0, -16.0, -21.0, -20.0, -20.0, -16.0, -13.0, -15.0]\n"
     ]
    }
   ],
   "source": [
    "iqr = q3 - q1\n",
    "lower_threshold = q1 - 1.5 * iqr\n",
    "upper_threshold = q3 + 1.5 * iqr\n",
    "outliers = [x for x in df['TenderEnquiryPeriodDurationInDays'] if x < lower_threshold ]\n",
    "\n",
    "print(\"Valores atípicos:\", outliers)"
   ]
  },
  {
   "cell_type": "code",
   "execution_count": 308,
   "metadata": {},
   "outputs": [],
   "source": [
    "# Eliminar valores atipicos\n",
    "df = df[df['TenderEnquiryPeriodDurationInDays'] >= 0]"
   ]
  },
  {
   "cell_type": "code",
   "execution_count": 309,
   "metadata": {},
   "outputs": [
    {
     "data": {
      "text/html": [
       "<div>\n",
       "<style scoped>\n",
       "    .dataframe tbody tr th:only-of-type {\n",
       "        vertical-align: middle;\n",
       "    }\n",
       "\n",
       "    .dataframe tbody tr th {\n",
       "        vertical-align: top;\n",
       "    }\n",
       "\n",
       "    .dataframe thead th {\n",
       "        text-align: right;\n",
       "    }\n",
       "</style>\n",
       "<table border=\"1\" class=\"dataframe\">\n",
       "  <thead>\n",
       "    <tr style=\"text-align: right;\">\n",
       "      <th></th>\n",
       "      <th>TenderStatus</th>\n",
       "      <th>TenderValueAmount</th>\n",
       "      <th>TenderTenderPeriodDurationInDays</th>\n",
       "      <th>TenderEnquiryPeriodDurationInDays</th>\n",
       "      <th>PlanningBudgetAmountAmount</th>\n",
       "    </tr>\n",
       "  </thead>\n",
       "  <tbody>\n",
       "    <tr>\n",
       "      <th>count</th>\n",
       "      <td>85373.00</td>\n",
       "      <td>85373.00</td>\n",
       "      <td>85373.00</td>\n",
       "      <td>85373.00</td>\n",
       "      <td>85373.00</td>\n",
       "    </tr>\n",
       "    <tr>\n",
       "      <th>mean</th>\n",
       "      <td>0.89</td>\n",
       "      <td>1596.34</td>\n",
       "      <td>13.91</td>\n",
       "      <td>7.89</td>\n",
       "      <td>1866.48</td>\n",
       "    </tr>\n",
       "    <tr>\n",
       "      <th>std</th>\n",
       "      <td>0.31</td>\n",
       "      <td>21737.49</td>\n",
       "      <td>16.13</td>\n",
       "      <td>13.58</td>\n",
       "      <td>24861.02</td>\n",
       "    </tr>\n",
       "    <tr>\n",
       "      <th>min</th>\n",
       "      <td>0.00</td>\n",
       "      <td>0.00</td>\n",
       "      <td>0.00</td>\n",
       "      <td>0.00</td>\n",
       "      <td>0.00</td>\n",
       "    </tr>\n",
       "    <tr>\n",
       "      <th>25%</th>\n",
       "      <td>1.00</td>\n",
       "      <td>40.96</td>\n",
       "      <td>7.00</td>\n",
       "      <td>2.00</td>\n",
       "      <td>48.00</td>\n",
       "    </tr>\n",
       "    <tr>\n",
       "      <th>50%</th>\n",
       "      <td>1.00</td>\n",
       "      <td>117.71</td>\n",
       "      <td>10.00</td>\n",
       "      <td>5.00</td>\n",
       "      <td>124.50</td>\n",
       "    </tr>\n",
       "    <tr>\n",
       "      <th>75%</th>\n",
       "      <td>1.00</td>\n",
       "      <td>260.00</td>\n",
       "      <td>16.00</td>\n",
       "      <td>9.00</td>\n",
       "      <td>280.65</td>\n",
       "    </tr>\n",
       "    <tr>\n",
       "      <th>max</th>\n",
       "      <td>1.00</td>\n",
       "      <td>3138134.76</td>\n",
       "      <td>735.00</td>\n",
       "      <td>732.00</td>\n",
       "      <td>3138134.76</td>\n",
       "    </tr>\n",
       "  </tbody>\n",
       "</table>\n",
       "</div>"
      ],
      "text/plain": [
       "       TenderStatus  TenderValueAmount  TenderTenderPeriodDurationInDays  \\\n",
       "count      85373.00           85373.00                          85373.00   \n",
       "mean           0.89            1596.34                             13.91   \n",
       "std            0.31           21737.49                             16.13   \n",
       "min            0.00               0.00                              0.00   \n",
       "25%            1.00              40.96                              7.00   \n",
       "50%            1.00             117.71                             10.00   \n",
       "75%            1.00             260.00                             16.00   \n",
       "max            1.00         3138134.76                            735.00   \n",
       "\n",
       "       TenderEnquiryPeriodDurationInDays  PlanningBudgetAmountAmount  \n",
       "count                           85373.00                    85373.00  \n",
       "mean                                7.89                     1866.48  \n",
       "std                                13.58                    24861.02  \n",
       "min                                 0.00                        0.00  \n",
       "25%                                 2.00                       48.00  \n",
       "50%                                 5.00                      124.50  \n",
       "75%                                 9.00                      280.65  \n",
       "max                               732.00                  3138134.76  "
      ]
     },
     "execution_count": 309,
     "metadata": {},
     "output_type": "execute_result"
    }
   ],
   "source": [
    "## Estadisticas descriptivas\n",
    "df.describe().round(2)"
   ]
  },
  {
   "cell_type": "markdown",
   "metadata": {},
   "source": [
    "## 6. Evaluación de datos"
   ]
  },
  {
   "cell_type": "markdown",
   "metadata": {},
   "source": [
    "### 6.1. Verificar la distribución de la variable TenderStatus"
   ]
  },
  {
   "cell_type": "code",
   "execution_count": 310,
   "metadata": {},
   "outputs": [],
   "source": [
    "# función para gráficar\n",
    "def grafica_barras(columna, titulo):\n",
    "    # graficar las respuestas a la pregunta 1\n",
    "    fig, ax = plt.subplots(figsize=(12, 6))\n",
    "    columna.plot(kind='bar', rot=0, colormap='coolwarm', ax=ax)\n",
    "    # Agregar los valores encima de cada barra\n",
    "    for p in ax.patches:\n",
    "        ax.annotate(str(p.get_height()), (p.get_x() + p.get_width() / 2., p.get_height()), \n",
    "                    ha='center', va='center', xytext=(0, 5), textcoords='offset points')\n",
    "\n",
    "        # Personalizar etiquetas y título del gráfico\n",
    "    plt.xlabel('Variable Objetivo (target)')\n",
    "    plt.ylabel('Cantidad')\n",
    "    plt.title(titulo)\n",
    "    plt.show()"
   ]
  },
  {
   "cell_type": "code",
   "execution_count": 311,
   "metadata": {},
   "outputs": [
    {
     "data": {
      "image/png": "[encoded data removed]",
      "text/plain": [
       "<Figure size 1200x600 with 1 Axes>"
      ]
     },
     "metadata": {},
     "output_type": "display_data"
    }
   ],
   "source": [
    "grafica_barras(df['TenderStatus'].value_counts(), \"Cantidad de licitaciones exitosas(1) y no exitosas (0)\")"
   ]
  },
  {
   "cell_type": "code",
   "execution_count": 312,
   "metadata": {},
   "outputs": [
    {
     "data": {
      "image/png": "[encoded data removed]",
      "text/plain": [
       "<Figure size 1200x600 with 1 Axes>"
      ]
     },
     "metadata": {},
     "output_type": "display_data"
    }
   ],
   "source": [
    "status_counts = df['TenderStatus'].value_counts(normalize=True).mul(100).round(1)\n",
    "grafica_barras(status_counts, \"Cantidad de licitaciones segun estado en %\")"
   ]
  },
  {
   "cell_type": "code",
   "execution_count": 313,
   "metadata": {},
   "outputs": [
    {
     "data": {
      "text/plain": [
       "1    89.4%\n",
       "0    10.6%\n",
       "Name: TenderStatus, dtype: object"
      ]
     },
     "execution_count": 313,
     "metadata": {},
     "output_type": "execute_result"
    }
   ],
   "source": [
    "df['TenderStatus'].value_counts(normalize=True).mul(100).round(1).astype(str) + '%'"
   ]
  },
  {
   "cell_type": "markdown",
   "metadata": {},
   "source": [
    "**Inferencia:** Del análisis anterior podemos concluir que:\n",
    "\n",
    "- En el resultado anterior, podemos ver que nuestro conjunto de datos no está equilibrado en absoluto, es decir, **Exitoso** es alrededor de **89.4%** y **No exitoso** es alrededor de **10.6%**\n",
    "- Por lo tanto, analizamos los datos con otras características mientras tomamos los valores objetivo por separado para obtener algunas ideas.\n",
    "\n"
   ]
  },
  {
   "cell_type": "markdown",
   "metadata": {},
   "source": [
    "### 6.2. Evaluando los atributos independientes"
   ]
  },
  {
   "cell_type": "markdown",
   "metadata": {},
   "source": [
    "### Distribución de columnas numéricas"
   ]
  },
  {
   "cell_type": "code",
   "execution_count": 314,
   "metadata": {},
   "outputs": [
    {
     "data": {
      "image/png": "[encoded data removed]",
      "text/plain": [
       "<Figure size 1800x2100 with 8 Axes>"
      ]
     },
     "metadata": {},
     "output_type": "display_data"
    }
   ],
   "source": [
    "# Histograma de columnas numéricas\n",
    "dataset2 = df[['TenderSubmissionMethod','TenderHasEnquiries', 'TenderTenderPeriodDurationInDays', 'TenderEnquiryPeriodDurationInDays',\n",
    "'TenderMainProcurementCategory', 'TenderProcurementMethod','InitiationType','BuyerId']]\n",
    "\n",
    "#Histogram:\n",
    "    \n",
    "fig = plt.figure(figsize=(18, 21))\n",
    "plt.suptitle('Histogramas de Variables Numéricas\\n',horizontalalignment=\"center\",fontstyle = \"normal\", fontsize = 24, fontfamily = \"sans-serif\")\n",
    "for i in range(dataset2.shape[1]):\n",
    "    plt.subplot(6,3, i + 1)\n",
    "    f = plt.gca()\n",
    "    f.set_title(dataset2.columns.values[i])\n",
    "\n",
    "    vals = np.size(dataset2.iloc[:, i].unique())\n",
    "    if vals >= 100:\n",
    "        vals = 100\n",
    "    \n",
    "    plt.hist(dataset2.iloc[:, i], bins=vals, color = '#ec838a')\n",
    "plt.tight_layout(rect=[0, 0.03, 1, 0.95])"
   ]
  },
  {
   "cell_type": "markdown",
   "metadata": {},
   "source": [
    "Se pueden hacer algunas observaciones basadas en los histogramas para variables numéricas:\n",
    "- Método de presentacion de ofertas:\n",
    "- Tiene consultas:\n",
    "- Periodo de duración:\n",
    "- Periodo de consultas:\n",
    "- Categoria de adquisiciones:\n",
    "- Método de adquisicion:\n",
    "- Tipo de iniciacion:\n",
    "- Instituto beneficiado:"
   ]
  },
  {
   "cell_type": "markdown",
   "metadata": {},
   "source": [
    "### 6.3. Análisis de correlación entre las variables"
   ]
  },
  {
   "cell_type": "markdown",
   "metadata": {},
   "source": [
    "### Correlación entre variables numéricas"
   ]
  },
  {
   "cell_type": "code",
   "execution_count": 315,
   "metadata": {
    "id": "HUq8cCCYHfUv"
   },
   "outputs": [
    {
     "data": {
      "text/html": [
       "<div>\n",
       "<style scoped>\n",
       "    .dataframe tbody tr th:only-of-type {\n",
       "        vertical-align: middle;\n",
       "    }\n",
       "\n",
       "    .dataframe tbody tr th {\n",
       "        vertical-align: top;\n",
       "    }\n",
       "\n",
       "    .dataframe thead th {\n",
       "        text-align: right;\n",
       "    }\n",
       "</style>\n",
       "<table border=\"1\" class=\"dataframe\">\n",
       "  <thead>\n",
       "    <tr style=\"text-align: right;\">\n",
       "      <th></th>\n",
       "      <th>TenderStatus</th>\n",
       "      <th>TenderValueAmount</th>\n",
       "      <th>TenderTenderPeriodDurationInDays</th>\n",
       "      <th>TenderEnquiryPeriodDurationInDays</th>\n",
       "      <th>PlanningBudgetAmountAmount</th>\n",
       "    </tr>\n",
       "  </thead>\n",
       "  <tbody>\n",
       "    <tr>\n",
       "      <th>TenderStatus</th>\n",
       "      <td>1.0000</td>\n",
       "      <td>-0.0030</td>\n",
       "      <td>-0.0912</td>\n",
       "      <td>-0.0571</td>\n",
       "      <td>-0.0047</td>\n",
       "    </tr>\n",
       "    <tr>\n",
       "      <th>TenderValueAmount</th>\n",
       "      <td>-0.0030</td>\n",
       "      <td>1.0000</td>\n",
       "      <td>0.1477</td>\n",
       "      <td>0.1805</td>\n",
       "      <td>0.8704</td>\n",
       "    </tr>\n",
       "    <tr>\n",
       "      <th>TenderTenderPeriodDurationInDays</th>\n",
       "      <td>-0.0912</td>\n",
       "      <td>0.1477</td>\n",
       "      <td>1.0000</td>\n",
       "      <td>0.7493</td>\n",
       "      <td>0.1262</td>\n",
       "    </tr>\n",
       "    <tr>\n",
       "      <th>TenderEnquiryPeriodDurationInDays</th>\n",
       "      <td>-0.0571</td>\n",
       "      <td>0.1805</td>\n",
       "      <td>0.7493</td>\n",
       "      <td>1.0000</td>\n",
       "      <td>0.1710</td>\n",
       "    </tr>\n",
       "    <tr>\n",
       "      <th>PlanningBudgetAmountAmount</th>\n",
       "      <td>-0.0047</td>\n",
       "      <td>0.8704</td>\n",
       "      <td>0.1262</td>\n",
       "      <td>0.1710</td>\n",
       "      <td>1.0000</td>\n",
       "    </tr>\n",
       "  </tbody>\n",
       "</table>\n",
       "</div>"
      ],
      "text/plain": [
       "                                   TenderStatus  TenderValueAmount  \\\n",
       "TenderStatus                             1.0000            -0.0030   \n",
       "TenderValueAmount                       -0.0030             1.0000   \n",
       "TenderTenderPeriodDurationInDays        -0.0912             0.1477   \n",
       "TenderEnquiryPeriodDurationInDays       -0.0571             0.1805   \n",
       "PlanningBudgetAmountAmount              -0.0047             0.8704   \n",
       "\n",
       "                                   TenderTenderPeriodDurationInDays  \\\n",
       "TenderStatus                                                -0.0912   \n",
       "TenderValueAmount                                            0.1477   \n",
       "TenderTenderPeriodDurationInDays                             1.0000   \n",
       "TenderEnquiryPeriodDurationInDays                            0.7493   \n",
       "PlanningBudgetAmountAmount                                   0.1262   \n",
       "\n",
       "                                   TenderEnquiryPeriodDurationInDays  \\\n",
       "TenderStatus                                                 -0.0571   \n",
       "TenderValueAmount                                             0.1805   \n",
       "TenderTenderPeriodDurationInDays                              0.7493   \n",
       "TenderEnquiryPeriodDurationInDays                             1.0000   \n",
       "PlanningBudgetAmountAmount                                    0.1710   \n",
       "\n",
       "                                   PlanningBudgetAmountAmount  \n",
       "TenderStatus                                          -0.0047  \n",
       "TenderValueAmount                                      0.8704  \n",
       "TenderTenderPeriodDurationInDays                       0.1262  \n",
       "TenderEnquiryPeriodDurationInDays                      0.1710  \n",
       "PlanningBudgetAmountAmount                             1.0000  "
      ]
     },
     "execution_count": 315,
     "metadata": {},
     "output_type": "execute_result"
    }
   ],
   "source": [
    "df.corr().round(4)"
   ]
  },
  {
   "cell_type": "code",
   "execution_count": 316,
   "metadata": {},
   "outputs": [
    {
     "data": {
      "text/html": [
       "<div>\n",
       "<style scoped>\n",
       "    .dataframe tbody tr th:only-of-type {\n",
       "        vertical-align: middle;\n",
       "    }\n",
       "\n",
       "    .dataframe tbody tr th {\n",
       "        vertical-align: top;\n",
       "    }\n",
       "\n",
       "    .dataframe thead th {\n",
       "        text-align: right;\n",
       "    }\n",
       "</style>\n",
       "<table border=\"1\" class=\"dataframe\">\n",
       "  <thead>\n",
       "    <tr style=\"text-align: right;\">\n",
       "      <th></th>\n",
       "      <th>TenderStatus</th>\n",
       "      <th>TenderValueAmount</th>\n",
       "      <th>TenderTenderPeriodDurationInDays</th>\n",
       "      <th>TenderEnquiryPeriodDurationInDays</th>\n",
       "      <th>PlanningBudgetAmountAmount</th>\n",
       "    </tr>\n",
       "  </thead>\n",
       "  <tbody>\n",
       "    <tr>\n",
       "      <th>TenderStatus</th>\n",
       "      <td>1.000000</td>\n",
       "      <td>0.029198</td>\n",
       "      <td>-0.087349</td>\n",
       "      <td>-0.042419</td>\n",
       "      <td>0.016479</td>\n",
       "    </tr>\n",
       "    <tr>\n",
       "      <th>TenderValueAmount</th>\n",
       "      <td>0.029198</td>\n",
       "      <td>1.000000</td>\n",
       "      <td>0.160679</td>\n",
       "      <td>0.396146</td>\n",
       "      <td>0.959386</td>\n",
       "    </tr>\n",
       "    <tr>\n",
       "      <th>TenderTenderPeriodDurationInDays</th>\n",
       "      <td>-0.087349</td>\n",
       "      <td>0.160679</td>\n",
       "      <td>1.000000</td>\n",
       "      <td>0.652126</td>\n",
       "      <td>0.168615</td>\n",
       "    </tr>\n",
       "    <tr>\n",
       "      <th>TenderEnquiryPeriodDurationInDays</th>\n",
       "      <td>-0.042419</td>\n",
       "      <td>0.396146</td>\n",
       "      <td>0.652126</td>\n",
       "      <td>1.000000</td>\n",
       "      <td>0.414529</td>\n",
       "    </tr>\n",
       "    <tr>\n",
       "      <th>PlanningBudgetAmountAmount</th>\n",
       "      <td>0.016479</td>\n",
       "      <td>0.959386</td>\n",
       "      <td>0.168615</td>\n",
       "      <td>0.414529</td>\n",
       "      <td>1.000000</td>\n",
       "    </tr>\n",
       "  </tbody>\n",
       "</table>\n",
       "</div>"
      ],
      "text/plain": [
       "                                   TenderStatus  TenderValueAmount  \\\n",
       "TenderStatus                           1.000000           0.029198   \n",
       "TenderValueAmount                      0.029198           1.000000   \n",
       "TenderTenderPeriodDurationInDays      -0.087349           0.160679   \n",
       "TenderEnquiryPeriodDurationInDays     -0.042419           0.396146   \n",
       "PlanningBudgetAmountAmount             0.016479           0.959386   \n",
       "\n",
       "                                   TenderTenderPeriodDurationInDays  \\\n",
       "TenderStatus                                              -0.087349   \n",
       "TenderValueAmount                                          0.160679   \n",
       "TenderTenderPeriodDurationInDays                           1.000000   \n",
       "TenderEnquiryPeriodDurationInDays                          0.652126   \n",
       "PlanningBudgetAmountAmount                                 0.168615   \n",
       "\n",
       "                                   TenderEnquiryPeriodDurationInDays  \\\n",
       "TenderStatus                                               -0.042419   \n",
       "TenderValueAmount                                           0.396146   \n",
       "TenderTenderPeriodDurationInDays                            0.652126   \n",
       "TenderEnquiryPeriodDurationInDays                           1.000000   \n",
       "PlanningBudgetAmountAmount                                  0.414529   \n",
       "\n",
       "                                   PlanningBudgetAmountAmount  \n",
       "TenderStatus                                         0.016479  \n",
       "TenderValueAmount                                    0.959386  \n",
       "TenderTenderPeriodDurationInDays                     0.168615  \n",
       "TenderEnquiryPeriodDurationInDays                    0.414529  \n",
       "PlanningBudgetAmountAmount                           1.000000  "
      ]
     },
     "execution_count": 316,
     "metadata": {},
     "output_type": "execute_result"
    }
   ],
   "source": [
    "df.corr(\"spearman\")"
   ]
  },
  {
   "cell_type": "markdown",
   "metadata": {},
   "source": [
    "### Correlación entre variables categóricas"
   ]
  },
  {
   "cell_type": "code",
   "execution_count": 317,
   "metadata": {},
   "outputs": [
    {
     "data": {
      "image/png": "[encoded data removed]",
      "text/plain": [
       "<Figure size 640x480 with 2 Axes>"
      ]
     },
     "metadata": {},
     "output_type": "display_data"
    }
   ],
   "source": [
    "df_corr = df[['TenderAwardCriteria', 'TenderSubmissionMethod', 'TenderEligibilityCriteria', 'TenderHasEnquiries',\n",
    "              'TenderMainProcurementCategory', 'TenderProcurementMethod', 'InitiationType', 'BuyerId'\n",
    "             ]].apply(lambda x: pd.factorize(x)[0])\n",
    "ax = sns.heatmap(df_corr.corr(), xticklabels=df_corr.columns, yticklabels=df_corr.columns, \n",
    "                 linewidths=.2, cmap=\"YlGnBu\")"
   ]
  },
  {
   "cell_type": "code",
   "execution_count": 318,
   "metadata": {},
   "outputs": [
    {
     "data": {
      "image/png": "[encoded data removed]",
      "text/plain": [
       "<Figure size 640x480 with 2 Axes>"
      ]
     },
     "metadata": {},
     "output_type": "display_data"
    }
   ],
   "source": [
    "ax = sns.heatmap(df_corr.corr(\"spearman\"), xticklabels=df_corr.columns, yticklabels=df_corr.columns, \n",
    "                 linewidths=.2, cmap=\"YlGnBu\")"
   ]
  },
  {
   "cell_type": "code",
   "execution_count": 319,
   "metadata": {},
   "outputs": [
    {
     "data": {
      "text/plain": [
       "<seaborn.axisgrid.FacetGrid at 0x7f0d01d76dd0>"
      ]
     },
     "execution_count": 319,
     "metadata": {},
     "output_type": "execute_result"
    },
    {
     "data": {
      "image/png": "[encoded data removed]",
      "text/plain": [
       "<Figure size 500x500 with 1 Axes>"
      ]
     },
     "metadata": {},
     "output_type": "display_data"
    }
   ],
   "source": [
    "# verificar colinearidad de TenderHasEnquiries y PlanningBudgetAmountAmount\n",
    "sns.lmplot(data=df, x='TenderValueAmount', y='PlanningBudgetAmountAmount', fit_reg=False)"
   ]
  },
  {
   "cell_type": "markdown",
   "metadata": {},
   "source": [
    "### 6.4. Usar get dummies para transformación de datos categóricos"
   ]
  },
  {
   "cell_type": "code",
   "execution_count": 320,
   "metadata": {},
   "outputs": [],
   "source": [
    "# transformación con get_dummies\n",
    "df = pd.get_dummies(df, columns=['TenderAwardCriteria', 'TenderSubmissionMethod', 'TenderEligibilityCriteria', 'TenderMainProcurementCategory', 'TenderProcurementMethod', 'InitiationType', 'BuyerId'])"
   ]
  },
  {
   "cell_type": "code",
   "execution_count": 321,
   "metadata": {},
   "outputs": [
    {
     "data": {
      "text/html": [
       "<div>\n",
       "<style scoped>\n",
       "    .dataframe tbody tr th:only-of-type {\n",
       "        vertical-align: middle;\n",
       "    }\n",
       "\n",
       "    .dataframe tbody tr th {\n",
       "        vertical-align: top;\n",
       "    }\n",
       "\n",
       "    .dataframe thead th {\n",
       "        text-align: right;\n",
       "    }\n",
       "</style>\n",
       "<table border=\"1\" class=\"dataframe\">\n",
       "  <thead>\n",
       "    <tr style=\"text-align: right;\">\n",
       "      <th></th>\n",
       "      <th>TenderStatus</th>\n",
       "      <th>TenderHasEnquiries</th>\n",
       "      <th>TenderValueAmount</th>\n",
       "      <th>TenderTenderPeriodDurationInDays</th>\n",
       "      <th>TenderEnquiryPeriodDurationInDays</th>\n",
       "      <th>PlanningBudgetAmountAmount</th>\n",
       "      <th>TenderAwardCriteria_antecedentes_firma_consultora</th>\n",
       "      <th>TenderAwardCriteria_priceOnly</th>\n",
       "      <th>TenderAwardCriteria_qualityOnly</th>\n",
       "      <th>TenderAwardCriteria_ratedCriteria</th>\n",
       "      <th>...</th>\n",
       "      <th>BuyerId_DNCP-SICP-CODE-90</th>\n",
       "      <th>BuyerId_DNCP-SICP-CODE-91</th>\n",
       "      <th>BuyerId_DNCP-SICP-CODE-92</th>\n",
       "      <th>BuyerId_DNCP-SICP-CODE-93</th>\n",
       "      <th>BuyerId_DNCP-SICP-CODE-94</th>\n",
       "      <th>BuyerId_DNCP-SICP-CODE-95</th>\n",
       "      <th>BuyerId_DNCP-SICP-CODE-96</th>\n",
       "      <th>BuyerId_DNCP-SICP-CODE-97</th>\n",
       "      <th>BuyerId_DNCP-SICP-CODE-98</th>\n",
       "      <th>BuyerId_DNCP-SICP-CODE-99</th>\n",
       "    </tr>\n",
       "  </thead>\n",
       "  <tbody>\n",
       "    <tr>\n",
       "      <th>0</th>\n",
       "      <td>1</td>\n",
       "      <td>0.0</td>\n",
       "      <td>12000.000000</td>\n",
       "      <td>53.0</td>\n",
       "      <td>37.0</td>\n",
       "      <td>12000.000000</td>\n",
       "      <td>0</td>\n",
       "      <td>1</td>\n",
       "      <td>0</td>\n",
       "      <td>0</td>\n",
       "      <td>...</td>\n",
       "      <td>0</td>\n",
       "      <td>0</td>\n",
       "      <td>0</td>\n",
       "      <td>0</td>\n",
       "      <td>0</td>\n",
       "      <td>0</td>\n",
       "      <td>0</td>\n",
       "      <td>0</td>\n",
       "      <td>0</td>\n",
       "      <td>0</td>\n",
       "    </tr>\n",
       "    <tr>\n",
       "      <th>1</th>\n",
       "      <td>1</td>\n",
       "      <td>1.0</td>\n",
       "      <td>450500.000000</td>\n",
       "      <td>75.0</td>\n",
       "      <td>48.0</td>\n",
       "      <td>450500.000000</td>\n",
       "      <td>0</td>\n",
       "      <td>1</td>\n",
       "      <td>0</td>\n",
       "      <td>0</td>\n",
       "      <td>...</td>\n",
       "      <td>0</td>\n",
       "      <td>0</td>\n",
       "      <td>0</td>\n",
       "      <td>0</td>\n",
       "      <td>0</td>\n",
       "      <td>0</td>\n",
       "      <td>0</td>\n",
       "      <td>0</td>\n",
       "      <td>0</td>\n",
       "      <td>0</td>\n",
       "    </tr>\n",
       "    <tr>\n",
       "      <th>2</th>\n",
       "      <td>1</td>\n",
       "      <td>0.0</td>\n",
       "      <td>127.207932</td>\n",
       "      <td>20.0</td>\n",
       "      <td>2.0</td>\n",
       "      <td>127.207932</td>\n",
       "      <td>0</td>\n",
       "      <td>1</td>\n",
       "      <td>0</td>\n",
       "      <td>0</td>\n",
       "      <td>...</td>\n",
       "      <td>0</td>\n",
       "      <td>0</td>\n",
       "      <td>0</td>\n",
       "      <td>0</td>\n",
       "      <td>0</td>\n",
       "      <td>0</td>\n",
       "      <td>0</td>\n",
       "      <td>0</td>\n",
       "      <td>0</td>\n",
       "      <td>0</td>\n",
       "    </tr>\n",
       "    <tr>\n",
       "      <th>3</th>\n",
       "      <td>1</td>\n",
       "      <td>0.0</td>\n",
       "      <td>176817.115750</td>\n",
       "      <td>40.0</td>\n",
       "      <td>33.0</td>\n",
       "      <td>191245.547274</td>\n",
       "      <td>0</td>\n",
       "      <td>1</td>\n",
       "      <td>0</td>\n",
       "      <td>0</td>\n",
       "      <td>...</td>\n",
       "      <td>0</td>\n",
       "      <td>0</td>\n",
       "      <td>0</td>\n",
       "      <td>0</td>\n",
       "      <td>0</td>\n",
       "      <td>0</td>\n",
       "      <td>0</td>\n",
       "      <td>0</td>\n",
       "      <td>0</td>\n",
       "      <td>0</td>\n",
       "    </tr>\n",
       "    <tr>\n",
       "      <th>4</th>\n",
       "      <td>1</td>\n",
       "      <td>0.0</td>\n",
       "      <td>16100.000000</td>\n",
       "      <td>41.0</td>\n",
       "      <td>34.0</td>\n",
       "      <td>16100.000000</td>\n",
       "      <td>0</td>\n",
       "      <td>1</td>\n",
       "      <td>0</td>\n",
       "      <td>0</td>\n",
       "      <td>...</td>\n",
       "      <td>0</td>\n",
       "      <td>0</td>\n",
       "      <td>0</td>\n",
       "      <td>0</td>\n",
       "      <td>0</td>\n",
       "      <td>0</td>\n",
       "      <td>0</td>\n",
       "      <td>0</td>\n",
       "      <td>0</td>\n",
       "      <td>0</td>\n",
       "    </tr>\n",
       "    <tr>\n",
       "      <th>...</th>\n",
       "      <td>...</td>\n",
       "      <td>...</td>\n",
       "      <td>...</td>\n",
       "      <td>...</td>\n",
       "      <td>...</td>\n",
       "      <td>...</td>\n",
       "      <td>...</td>\n",
       "      <td>...</td>\n",
       "      <td>...</td>\n",
       "      <td>...</td>\n",
       "      <td>...</td>\n",
       "      <td>...</td>\n",
       "      <td>...</td>\n",
       "      <td>...</td>\n",
       "      <td>...</td>\n",
       "      <td>...</td>\n",
       "      <td>...</td>\n",
       "      <td>...</td>\n",
       "      <td>...</td>\n",
       "      <td>...</td>\n",
       "      <td>...</td>\n",
       "    </tr>\n",
       "    <tr>\n",
       "      <th>125231</th>\n",
       "      <td>1</td>\n",
       "      <td>0.0</td>\n",
       "      <td>120.000000</td>\n",
       "      <td>6.0</td>\n",
       "      <td>2.0</td>\n",
       "      <td>120.000000</td>\n",
       "      <td>0</td>\n",
       "      <td>1</td>\n",
       "      <td>0</td>\n",
       "      <td>0</td>\n",
       "      <td>...</td>\n",
       "      <td>0</td>\n",
       "      <td>0</td>\n",
       "      <td>0</td>\n",
       "      <td>0</td>\n",
       "      <td>0</td>\n",
       "      <td>0</td>\n",
       "      <td>0</td>\n",
       "      <td>0</td>\n",
       "      <td>0</td>\n",
       "      <td>0</td>\n",
       "    </tr>\n",
       "    <tr>\n",
       "      <th>125232</th>\n",
       "      <td>1</td>\n",
       "      <td>0.0</td>\n",
       "      <td>140.000000</td>\n",
       "      <td>15.0</td>\n",
       "      <td>12.0</td>\n",
       "      <td>140.000000</td>\n",
       "      <td>0</td>\n",
       "      <td>1</td>\n",
       "      <td>0</td>\n",
       "      <td>0</td>\n",
       "      <td>...</td>\n",
       "      <td>0</td>\n",
       "      <td>0</td>\n",
       "      <td>0</td>\n",
       "      <td>0</td>\n",
       "      <td>0</td>\n",
       "      <td>0</td>\n",
       "      <td>0</td>\n",
       "      <td>0</td>\n",
       "      <td>0</td>\n",
       "      <td>0</td>\n",
       "    </tr>\n",
       "    <tr>\n",
       "      <th>125233</th>\n",
       "      <td>1</td>\n",
       "      <td>0.0</td>\n",
       "      <td>57.052368</td>\n",
       "      <td>5.0</td>\n",
       "      <td>2.0</td>\n",
       "      <td>60.000000</td>\n",
       "      <td>0</td>\n",
       "      <td>1</td>\n",
       "      <td>0</td>\n",
       "      <td>0</td>\n",
       "      <td>...</td>\n",
       "      <td>0</td>\n",
       "      <td>0</td>\n",
       "      <td>0</td>\n",
       "      <td>0</td>\n",
       "      <td>0</td>\n",
       "      <td>0</td>\n",
       "      <td>0</td>\n",
       "      <td>0</td>\n",
       "      <td>0</td>\n",
       "      <td>0</td>\n",
       "    </tr>\n",
       "    <tr>\n",
       "      <th>125234</th>\n",
       "      <td>1</td>\n",
       "      <td>0.0</td>\n",
       "      <td>50.000000</td>\n",
       "      <td>5.0</td>\n",
       "      <td>1.0</td>\n",
       "      <td>50.000000</td>\n",
       "      <td>0</td>\n",
       "      <td>1</td>\n",
       "      <td>0</td>\n",
       "      <td>0</td>\n",
       "      <td>...</td>\n",
       "      <td>0</td>\n",
       "      <td>0</td>\n",
       "      <td>0</td>\n",
       "      <td>0</td>\n",
       "      <td>0</td>\n",
       "      <td>0</td>\n",
       "      <td>0</td>\n",
       "      <td>0</td>\n",
       "      <td>0</td>\n",
       "      <td>0</td>\n",
       "    </tr>\n",
       "    <tr>\n",
       "      <th>125236</th>\n",
       "      <td>1</td>\n",
       "      <td>0.0</td>\n",
       "      <td>351.700000</td>\n",
       "      <td>18.0</td>\n",
       "      <td>6.0</td>\n",
       "      <td>351.700000</td>\n",
       "      <td>0</td>\n",
       "      <td>1</td>\n",
       "      <td>0</td>\n",
       "      <td>0</td>\n",
       "      <td>...</td>\n",
       "      <td>0</td>\n",
       "      <td>0</td>\n",
       "      <td>0</td>\n",
       "      <td>0</td>\n",
       "      <td>0</td>\n",
       "      <td>0</td>\n",
       "      <td>0</td>\n",
       "      <td>0</td>\n",
       "      <td>0</td>\n",
       "      <td>0</td>\n",
       "    </tr>\n",
       "  </tbody>\n",
       "</table>\n",
       "<p>85373 rows × 516 columns</p>\n",
       "</div>"
      ],
      "text/plain": [
       "        TenderStatus TenderHasEnquiries  TenderValueAmount  \\\n",
       "0                  1                0.0       12000.000000   \n",
       "1                  1                1.0      450500.000000   \n",
       "2                  1                0.0         127.207932   \n",
       "3                  1                0.0      176817.115750   \n",
       "4                  1                0.0       16100.000000   \n",
       "...              ...                ...                ...   \n",
       "125231             1                0.0         120.000000   \n",
       "125232             1                0.0         140.000000   \n",
       "125233             1                0.0          57.052368   \n",
       "125234             1                0.0          50.000000   \n",
       "125236             1                0.0         351.700000   \n",
       "\n",
       "        TenderTenderPeriodDurationInDays  TenderEnquiryPeriodDurationInDays  \\\n",
       "0                                   53.0                               37.0   \n",
       "1                                   75.0                               48.0   \n",
       "2                                   20.0                                2.0   \n",
       "3                                   40.0                               33.0   \n",
       "4                                   41.0                               34.0   \n",
       "...                                  ...                                ...   \n",
       "125231                               6.0                                2.0   \n",
       "125232                              15.0                               12.0   \n",
       "125233                               5.0                                2.0   \n",
       "125234                               5.0                                1.0   \n",
       "125236                              18.0                                6.0   \n",
       "\n",
       "        PlanningBudgetAmountAmount  \\\n",
       "0                     12000.000000   \n",
       "1                    450500.000000   \n",
       "2                       127.207932   \n",
       "3                    191245.547274   \n",
       "4                     16100.000000   \n",
       "...                            ...   \n",
       "125231                  120.000000   \n",
       "125232                  140.000000   \n",
       "125233                   60.000000   \n",
       "125234                   50.000000   \n",
       "125236                  351.700000   \n",
       "\n",
       "        TenderAwardCriteria_antecedentes_firma_consultora  \\\n",
       "0                                                       0   \n",
       "1                                                       0   \n",
       "2                                                       0   \n",
       "3                                                       0   \n",
       "4                                                       0   \n",
       "...                                                   ...   \n",
       "125231                                                  0   \n",
       "125232                                                  0   \n",
       "125233                                                  0   \n",
       "125234                                                  0   \n",
       "125236                                                  0   \n",
       "\n",
       "        TenderAwardCriteria_priceOnly  TenderAwardCriteria_qualityOnly  \\\n",
       "0                                   1                                0   \n",
       "1                                   1                                0   \n",
       "2                                   1                                0   \n",
       "3                                   1                                0   \n",
       "4                                   1                                0   \n",
       "...                               ...                              ...   \n",
       "125231                              1                                0   \n",
       "125232                              1                                0   \n",
       "125233                              1                                0   \n",
       "125234                              1                                0   \n",
       "125236                              1                                0   \n",
       "\n",
       "        TenderAwardCriteria_ratedCriteria  ...  BuyerId_DNCP-SICP-CODE-90  \\\n",
       "0                                       0  ...                          0   \n",
       "1                                       0  ...                          0   \n",
       "2                                       0  ...                          0   \n",
       "3                                       0  ...                          0   \n",
       "4                                       0  ...                          0   \n",
       "...                                   ...  ...                        ...   \n",
       "125231                                  0  ...                          0   \n",
       "125232                                  0  ...                          0   \n",
       "125233                                  0  ...                          0   \n",
       "125234                                  0  ...                          0   \n",
       "125236                                  0  ...                          0   \n",
       "\n",
       "        BuyerId_DNCP-SICP-CODE-91  BuyerId_DNCP-SICP-CODE-92  \\\n",
       "0                               0                          0   \n",
       "1                               0                          0   \n",
       "2                               0                          0   \n",
       "3                               0                          0   \n",
       "4                               0                          0   \n",
       "...                           ...                        ...   \n",
       "125231                          0                          0   \n",
       "125232                          0                          0   \n",
       "125233                          0                          0   \n",
       "125234                          0                          0   \n",
       "125236                          0                          0   \n",
       "\n",
       "        BuyerId_DNCP-SICP-CODE-93  BuyerId_DNCP-SICP-CODE-94  \\\n",
       "0                               0                          0   \n",
       "1                               0                          0   \n",
       "2                               0                          0   \n",
       "3                               0                          0   \n",
       "4                               0                          0   \n",
       "...                           ...                        ...   \n",
       "125231                          0                          0   \n",
       "125232                          0                          0   \n",
       "125233                          0                          0   \n",
       "125234                          0                          0   \n",
       "125236                          0                          0   \n",
       "\n",
       "        BuyerId_DNCP-SICP-CODE-95  BuyerId_DNCP-SICP-CODE-96  \\\n",
       "0                               0                          0   \n",
       "1                               0                          0   \n",
       "2                               0                          0   \n",
       "3                               0                          0   \n",
       "4                               0                          0   \n",
       "...                           ...                        ...   \n",
       "125231                          0                          0   \n",
       "125232                          0                          0   \n",
       "125233                          0                          0   \n",
       "125234                          0                          0   \n",
       "125236                          0                          0   \n",
       "\n",
       "        BuyerId_DNCP-SICP-CODE-97  BuyerId_DNCP-SICP-CODE-98  \\\n",
       "0                               0                          0   \n",
       "1                               0                          0   \n",
       "2                               0                          0   \n",
       "3                               0                          0   \n",
       "4                               0                          0   \n",
       "...                           ...                        ...   \n",
       "125231                          0                          0   \n",
       "125232                          0                          0   \n",
       "125233                          0                          0   \n",
       "125234                          0                          0   \n",
       "125236                          0                          0   \n",
       "\n",
       "        BuyerId_DNCP-SICP-CODE-99  \n",
       "0                               0  \n",
       "1                               0  \n",
       "2                               0  \n",
       "3                               0  \n",
       "4                               0  \n",
       "...                           ...  \n",
       "125231                          0  \n",
       "125232                          0  \n",
       "125233                          0  \n",
       "125234                          0  \n",
       "125236                          0  \n",
       "\n",
       "[85373 rows x 516 columns]"
      ]
     },
     "execution_count": 321,
     "metadata": {},
     "output_type": "execute_result"
    }
   ],
   "source": [
    "df"
   ]
  },
  {
   "cell_type": "markdown",
   "metadata": {},
   "source": [
    "## 7. Balanceo de la variable objetivo"
   ]
  },
  {
   "cell_type": "code",
   "execution_count": 322,
   "metadata": {},
   "outputs": [
    {
     "data": {
      "image/png": "[encoded data removed]",
      "text/plain": [
       "<Figure size 640x480 with 1 Axes>"
      ]
     },
     "metadata": {},
     "output_type": "display_data"
    }
   ],
   "source": [
    "# la variable target está desbalanceada\n",
    "ax = sns.countplot(x='TenderStatus', data=df)"
   ]
  },
  {
   "cell_type": "code",
   "execution_count": 323,
   "metadata": {},
   "outputs": [
    {
     "name": "stdout",
     "output_type": "stream",
     "text": [
      "Requirement already satisfied: imblearn in /home/vanelo/anaconda3/lib/python3.10/site-packages (0.0)\n",
      "Requirement already satisfied: imbalanced-learn in /home/vanelo/anaconda3/lib/python3.10/site-packages (from imblearn) (0.10.1)\n",
      "Requirement already satisfied: numpy>=1.17.3 in /home/vanelo/anaconda3/lib/python3.10/site-packages (from imbalanced-learn->imblearn) (1.23.5)\n",
      "Requirement already satisfied: scipy>=1.3.2 in /home/vanelo/anaconda3/lib/python3.10/site-packages (from imbalanced-learn->imblearn) (1.10.0)\n",
      "Requirement already satisfied: scikit-learn>=1.0.2 in /home/vanelo/anaconda3/lib/python3.10/site-packages (from imbalanced-learn->imblearn) (1.2.1)\n",
      "Requirement already satisfied: joblib>=1.1.1 in /home/vanelo/anaconda3/lib/python3.10/site-packages (from imbalanced-learn->imblearn) (1.1.1)\n",
      "Requirement already satisfied: threadpoolctl>=2.0.0 in /home/vanelo/anaconda3/lib/python3.10/site-packages (from imbalanced-learn->imblearn) (2.2.0)\n",
      "\n",
      "\u001b[1m[\u001b[0m\u001b[34;49mnotice\u001b[0m\u001b[1;39;49m]\u001b[0m\u001b[39;49m A new release of pip is available: \u001b[0m\u001b[31;49m23.1.2\u001b[0m\u001b[39;49m -> \u001b[0m\u001b[32;49m23.2.1\u001b[0m\n",
      "\u001b[1m[\u001b[0m\u001b[34;49mnotice\u001b[0m\u001b[1;39;49m]\u001b[0m\u001b[39;49m To update, run: \u001b[0m\u001b[32;49mpip install --upgrade pip\u001b[0m\n"
     ]
    }
   ],
   "source": [
    "!pip install imblearn"
   ]
  },
  {
   "cell_type": "code",
   "execution_count": 324,
   "metadata": {},
   "outputs": [],
   "source": [
    "# biblioteca para balancear los datos utilizando over_sampling\n",
    "from imblearn.over_sampling import SMOTE"
   ]
  },
  {
   "cell_type": "code",
   "execution_count": 325,
   "metadata": {},
   "outputs": [],
   "source": [
    "# dividiendo los datos en caracteristicas y target\n",
    "X = df.drop('TenderStatus', axis = 1)\n",
    "y = df['TenderStatus']"
   ]
  },
  {
   "cell_type": "code",
   "execution_count": 326,
   "metadata": {},
   "outputs": [],
   "source": [
    "smt = SMOTE(random_state=123)\n",
    "X, y = smt.fit_resample(X, y)"
   ]
  },
  {
   "cell_type": "code",
   "execution_count": 327,
   "metadata": {},
   "outputs": [],
   "source": [
    "# unión de los datos balanceados\n",
    "datos_final = pd.concat([X, y], axis=1)"
   ]
  },
  {
   "cell_type": "code",
   "execution_count": 328,
   "metadata": {},
   "outputs": [
    {
     "data": {
      "text/html": [
       "<div>\n",
       "<style scoped>\n",
       "    .dataframe tbody tr th:only-of-type {\n",
       "        vertical-align: middle;\n",
       "    }\n",
       "\n",
       "    .dataframe tbody tr th {\n",
       "        vertical-align: top;\n",
       "    }\n",
       "\n",
       "    .dataframe thead th {\n",
       "        text-align: right;\n",
       "    }\n",
       "</style>\n",
       "<table border=\"1\" class=\"dataframe\">\n",
       "  <thead>\n",
       "    <tr style=\"text-align: right;\">\n",
       "      <th></th>\n",
       "      <th>TenderHasEnquiries</th>\n",
       "      <th>TenderValueAmount</th>\n",
       "      <th>TenderTenderPeriodDurationInDays</th>\n",
       "      <th>TenderEnquiryPeriodDurationInDays</th>\n",
       "      <th>PlanningBudgetAmountAmount</th>\n",
       "      <th>TenderAwardCriteria_antecedentes_firma_consultora</th>\n",
       "      <th>TenderAwardCriteria_priceOnly</th>\n",
       "      <th>TenderAwardCriteria_qualityOnly</th>\n",
       "      <th>TenderAwardCriteria_ratedCriteria</th>\n",
       "      <th>TenderSubmissionMethod_electronicAuction</th>\n",
       "      <th>...</th>\n",
       "      <th>BuyerId_DNCP-SICP-CODE-91</th>\n",
       "      <th>BuyerId_DNCP-SICP-CODE-92</th>\n",
       "      <th>BuyerId_DNCP-SICP-CODE-93</th>\n",
       "      <th>BuyerId_DNCP-SICP-CODE-94</th>\n",
       "      <th>BuyerId_DNCP-SICP-CODE-95</th>\n",
       "      <th>BuyerId_DNCP-SICP-CODE-96</th>\n",
       "      <th>BuyerId_DNCP-SICP-CODE-97</th>\n",
       "      <th>BuyerId_DNCP-SICP-CODE-98</th>\n",
       "      <th>BuyerId_DNCP-SICP-CODE-99</th>\n",
       "      <th>TenderStatus</th>\n",
       "    </tr>\n",
       "  </thead>\n",
       "  <tbody>\n",
       "    <tr>\n",
       "      <th>0</th>\n",
       "      <td>0.0</td>\n",
       "      <td>12000.0</td>\n",
       "      <td>53.0</td>\n",
       "      <td>37.0</td>\n",
       "      <td>12000.0</td>\n",
       "      <td>0</td>\n",
       "      <td>1</td>\n",
       "      <td>0</td>\n",
       "      <td>0</td>\n",
       "      <td>0</td>\n",
       "      <td>...</td>\n",
       "      <td>0</td>\n",
       "      <td>0</td>\n",
       "      <td>0</td>\n",
       "      <td>0</td>\n",
       "      <td>0</td>\n",
       "      <td>0</td>\n",
       "      <td>0</td>\n",
       "      <td>0</td>\n",
       "      <td>0</td>\n",
       "      <td>1</td>\n",
       "    </tr>\n",
       "    <tr>\n",
       "      <th>1</th>\n",
       "      <td>1.0</td>\n",
       "      <td>450500.0</td>\n",
       "      <td>75.0</td>\n",
       "      <td>48.0</td>\n",
       "      <td>450500.0</td>\n",
       "      <td>0</td>\n",
       "      <td>1</td>\n",
       "      <td>0</td>\n",
       "      <td>0</td>\n",
       "      <td>0</td>\n",
       "      <td>...</td>\n",
       "      <td>0</td>\n",
       "      <td>0</td>\n",
       "      <td>0</td>\n",
       "      <td>0</td>\n",
       "      <td>0</td>\n",
       "      <td>0</td>\n",
       "      <td>0</td>\n",
       "      <td>0</td>\n",
       "      <td>0</td>\n",
       "      <td>1</td>\n",
       "    </tr>\n",
       "  </tbody>\n",
       "</table>\n",
       "<p>2 rows × 516 columns</p>\n",
       "</div>"
      ],
      "text/plain": [
       "  TenderHasEnquiries  TenderValueAmount  TenderTenderPeriodDurationInDays  \\\n",
       "0                0.0            12000.0                              53.0   \n",
       "1                1.0           450500.0                              75.0   \n",
       "\n",
       "   TenderEnquiryPeriodDurationInDays  PlanningBudgetAmountAmount  \\\n",
       "0                               37.0                     12000.0   \n",
       "1                               48.0                    450500.0   \n",
       "\n",
       "   TenderAwardCriteria_antecedentes_firma_consultora  \\\n",
       "0                                                  0   \n",
       "1                                                  0   \n",
       "\n",
       "   TenderAwardCriteria_priceOnly  TenderAwardCriteria_qualityOnly  \\\n",
       "0                              1                                0   \n",
       "1                              1                                0   \n",
       "\n",
       "   TenderAwardCriteria_ratedCriteria  \\\n",
       "0                                  0   \n",
       "1                                  0   \n",
       "\n",
       "   TenderSubmissionMethod_electronicAuction  ...  BuyerId_DNCP-SICP-CODE-91  \\\n",
       "0                                         0  ...                          0   \n",
       "1                                         0  ...                          0   \n",
       "\n",
       "   BuyerId_DNCP-SICP-CODE-92  BuyerId_DNCP-SICP-CODE-93  \\\n",
       "0                          0                          0   \n",
       "1                          0                          0   \n",
       "\n",
       "   BuyerId_DNCP-SICP-CODE-94  BuyerId_DNCP-SICP-CODE-95  \\\n",
       "0                          0                          0   \n",
       "1                          0                          0   \n",
       "\n",
       "   BuyerId_DNCP-SICP-CODE-96  BuyerId_DNCP-SICP-CODE-97  \\\n",
       "0                          0                          0   \n",
       "1                          0                          0   \n",
       "\n",
       "   BuyerId_DNCP-SICP-CODE-98  BuyerId_DNCP-SICP-CODE-99  TenderStatus  \n",
       "0                          0                          0             1  \n",
       "1                          0                          0             1  \n",
       "\n",
       "[2 rows x 516 columns]"
      ]
     },
     "execution_count": 328,
     "metadata": {},
     "output_type": "execute_result"
    }
   ],
   "source": [
    "# verificación 1 - unión de los datos\n",
    "datos_final.head(2)"
   ]
  },
  {
   "cell_type": "code",
   "execution_count": 329,
   "metadata": {},
   "outputs": [
    {
     "data": {
      "image/png": "[encoded data removed]",
      "text/plain": [
       "<Figure size 640x480 with 1 Axes>"
      ]
     },
     "metadata": {},
     "output_type": "display_data"
    }
   ],
   "source": [
    "# verificación 2 - balanceamiento\n",
    "ax = sns.countplot(x='TenderStatus', data=datos_final)"
   ]
  },
  {
   "cell_type": "code",
   "execution_count": 330,
   "metadata": {},
   "outputs": [
    {
     "data": {
      "text/plain": [
       "1    76301\n",
       "0    76301\n",
       "Name: TenderStatus, dtype: int64"
      ]
     },
     "execution_count": 330,
     "metadata": {},
     "output_type": "execute_result"
    }
   ],
   "source": [
    "datos_final.TenderStatus.value_counts()"
   ]
  },
  {
   "cell_type": "code",
   "execution_count": 331,
   "metadata": {},
   "outputs": [
    {
     "data": {
      "text/plain": [
       "TenderHasEnquiries                    True\n",
       "TenderValueAmount                    False\n",
       "TenderTenderPeriodDurationInDays     False\n",
       "TenderEnquiryPeriodDurationInDays    False\n",
       "PlanningBudgetAmountAmount           False\n",
       "                                     ...  \n",
       "BuyerId_DNCP-SICP-CODE-96            False\n",
       "BuyerId_DNCP-SICP-CODE-97            False\n",
       "BuyerId_DNCP-SICP-CODE-98            False\n",
       "BuyerId_DNCP-SICP-CODE-99            False\n",
       "TenderStatus                         False\n",
       "Length: 516, dtype: bool"
      ]
     },
     "execution_count": 331,
     "metadata": {},
     "output_type": "execute_result"
    }
   ],
   "source": [
    "#Revalidar:\n",
    "datos_final.isna().any() "
   ]
  },
  {
   "cell_type": "code",
   "execution_count": 332,
   "metadata": {},
   "outputs": [],
   "source": [
    "datos_final = datos_final.fillna(0)"
   ]
  },
  {
   "cell_type": "code",
   "execution_count": 333,
   "metadata": {},
   "outputs": [
    {
     "name": "stdout",
     "output_type": "stream",
     "text": [
      "<class 'pandas.core.frame.DataFrame'>\n",
      "RangeIndex: 152602 entries, 0 to 152601\n",
      "Columns: 516 entries, TenderHasEnquiries to TenderStatus\n",
      "dtypes: category(1), float64(4), int64(1), uint8(510)\n",
      "memory usage: 80.2 MB\n"
     ]
    }
   ],
   "source": [
    "datos_final.info()"
   ]
  },
  {
   "cell_type": "markdown",
   "metadata": {},
   "source": [
    "## 8. Separar los datos en entrenamiento y prueba"
   ]
  },
  {
   "cell_type": "code",
   "execution_count": 334,
   "metadata": {},
   "outputs": [],
   "source": [
    "# División en inputs y outputs\n",
    "X = datos_final.drop('TenderStatus', axis = 1)\n",
    "y = datos_final['TenderStatus']"
   ]
  },
  {
   "cell_type": "code",
   "execution_count": 335,
   "metadata": {},
   "outputs": [],
   "source": [
    "# Libreria para normalizar los datos\n",
    "from sklearn.preprocessing import StandardScaler"
   ]
  },
  {
   "cell_type": "code",
   "execution_count": 336,
   "metadata": {
    "scrolled": true
   },
   "outputs": [
    {
     "data": {
      "text/plain": [
       "array([[-2.72924779e-01,  4.32508177e-01,  1.99889542e+00, ...,\n",
       "        -1.42542657e-02, -4.33321516e-02, -4.14709200e-02],\n",
       "       [ 3.66401322e+00,  1.87296777e+01,  3.17161355e+00, ...,\n",
       "        -1.42542657e-02, -4.33321516e-02, -4.14709200e-02],\n",
       "       [-2.72924779e-01, -6.29045686e-02,  2.39818231e-01, ...,\n",
       "        -1.42542657e-02, -4.33321516e-02, -4.14709200e-02],\n",
       "       ...,\n",
       "       [-2.72924779e-01, -6.32141691e-02,  3.54703527e-01, ...,\n",
       "        -1.42542657e-02, -4.33321516e-02, -4.14709200e-02],\n",
       "       [-2.72924779e-01, -6.55311501e-02, -5.19309358e-01, ...,\n",
       "        -1.42542657e-02, -4.33321516e-02, -4.14709200e-02],\n",
       "       [-2.72924779e-01, -6.77680500e-02,  5.59650448e-01, ...,\n",
       "        -1.42542657e-02, -4.33321516e-02, -4.14709200e-02]])"
      ]
     },
     "execution_count": 336,
     "metadata": {},
     "output_type": "execute_result"
    }
   ],
   "source": [
    "norm = StandardScaler()\n",
    "\n",
    "X_normalizado = norm.fit_transform(X)\n",
    "X_normalizado"
   ]
  },
  {
   "cell_type": "code",
   "execution_count": 337,
   "metadata": {},
   "outputs": [
    {
     "data": {
      "text/plain": [
       "array([-2.72924779e-01,  4.32508177e-01,  1.99889542e+00,  1.91787548e+00,\n",
       "        3.64163465e-01, -3.59528651e-02,  2.36665882e-01, -2.15749658e-02,\n",
       "       -1.41897977e-01, -2.26695164e-01,  2.96990243e-01, -4.43388866e-03,\n",
       "       -2.55989004e-03, -2.55989004e-03, -2.55989004e-03, -3.62024307e-03,\n",
       "       -2.55989004e-03, -2.55989004e-03, -2.55989004e-03, -2.55989004e-03,\n",
       "       -2.55989004e-03, -2.55989004e-03, -2.55989004e-03, -2.55989004e-03,\n",
       "       -2.55989004e-03, -2.55989004e-03, -2.55989004e-03, -2.55989004e-03,\n",
       "       -2.55989004e-03, -2.55989004e-03, -2.55989004e-03, -2.55989004e-03,\n",
       "       -2.55989004e-03, -2.55989004e-03, -2.55989004e-03, -2.55989004e-03,\n",
       "       -2.55989004e-03, -2.55989004e-03, -2.55989004e-03, -2.55989004e-03,\n",
       "       -2.55989004e-03, -3.62024307e-03, -2.55989004e-03, -2.55989004e-03,\n",
       "       -2.55989004e-03, -2.55989004e-03, -2.55989004e-03,  7.98155303e-02,\n",
       "       -3.62024307e-03, -2.55989004e-03, -3.62024307e-03, -2.55989004e-03,\n",
       "       -2.55989004e-03, -5.11983040e-03, -2.55989004e-03, -2.55989004e-03,\n",
       "       -2.55989004e-03, -3.62024307e-03, -3.62024307e-03, -2.55989004e-03,\n",
       "       -7.24062849e-03, -5.11983040e-03, -4.43388866e-03, -3.62024307e-03,\n",
       "       -2.55989004e-03, -8.49047296e-03, -4.43388866e-03, -2.55989004e-03,\n",
       "       -2.55989004e-03, -2.55989004e-03, -3.62024307e-03, -2.55989004e-03,\n",
       "       -2.55989004e-03, -2.55989004e-03, -8.49047296e-03, -2.55989004e-03,\n",
       "       -2.55989004e-03, -2.55989004e-03, -2.55989004e-03, -2.55989004e-03,\n",
       "        0.00000000e+00, -3.62024307e-03, -2.55989004e-03, -2.55989004e-03,\n",
       "       -2.55989004e-03, -1.47069908e-02, -2.55989004e-03, -2.55989004e-03,\n",
       "       -2.55989004e-03, -2.55989004e-03, -2.55989004e-03, -2.55989004e-03,\n",
       "       -2.55989004e-03, -2.55989004e-03, -2.55989004e-03, -3.62024307e-03,\n",
       "       -3.62024307e-03, -2.55989004e-03, -2.55989004e-03, -1.98326573e-02,\n",
       "       -2.55989004e-03, -5.11983040e-03, -2.55989004e-03, -4.43388866e-03,\n",
       "       -3.62024307e-03, -2.27586175e-02, -3.62024307e-03, -2.55989004e-03,\n",
       "       -2.55989004e-03, -2.55989004e-03, -2.55989004e-03, -2.55989004e-03,\n",
       "       -2.55989004e-03, -2.55989004e-03, -5.11983040e-03, -2.55989004e-03,\n",
       "       -2.55989004e-03, -8.49047296e-03, -6.77296558e-03, -2.55989004e-03,\n",
       "       -2.55989004e-03, -2.55989004e-03, -2.55989004e-03, -2.55989004e-03,\n",
       "       -3.62024307e-03, -2.55989004e-03, -2.55989004e-03, -2.55989004e-03,\n",
       "       -3.62024307e-03, -2.55989004e-03, -2.55989004e-03, -2.55989004e-03,\n",
       "       -2.55989004e-03, -2.55989004e-03, -2.55989004e-03, -2.55989004e-03,\n",
       "       -2.55989004e-03, -2.55989004e-03, -3.62024307e-03, -2.55989004e-03,\n",
       "       -3.62024307e-03, -2.55989004e-03, -2.55989004e-03, -5.11983040e-03,\n",
       "       -5.11983040e-03, -2.55989004e-03, -7.69334717e-01,  1.53222378e+00,\n",
       "       -3.96990790e-01,  0.00000000e+00,  0.00000000e+00, -7.03252266e-02,\n",
       "       -1.57821354e-02, -2.42923342e-02, -7.00423532e-02, -4.05895472e-02,\n",
       "       -1.08612986e-02, -5.13932048e-02, -4.94334984e-02, -4.46775852e-02,\n",
       "       -3.26998497e-02, -1.04325212e-01, -8.86803884e-03, -6.04713823e-02,\n",
       "       -5.72416316e-03, -4.43388866e-03, -1.73645794e-02, -2.48266210e-02,\n",
       "       -1.63934426e-02, -3.29000665e-02, -2.58621820e-02, -4.24116737e-02,\n",
       "       -1.96666262e-02, -7.93569146e-02, -4.03458538e-02, -2.61146732e-02,\n",
       "       -2.90869633e-02, -2.97563019e-02, -2.36075183e-02, -2.04833489e-02,\n",
       "       -1.55730402e-02, -3.76490776e-02, -4.43820976e-02, -4.59839741e-02,\n",
       "       -1.47069908e-02, -2.37460579e-02, -2.94235294e-02, -2.82861261e-02,\n",
       "       -4.26436422e-02, -3.58613804e-02, -3.15760703e-02, -5.06183352e-02,\n",
       "       -3.63165112e-02, -2.21746752e-02, -5.88676088e-02, -3.39802686e-02,\n",
       "       -2.57350100e-02, -2.04833489e-02, -3.53075205e-02, -3.50273231e-02,\n",
       "       -9.91486630e-03, -6.77296558e-03, -8.86803884e-03, -4.43388866e-03,\n",
       "       -1.28004568e-02, -3.62024307e-03, -1.14488890e-02, -1.02400634e-02,\n",
       "       -4.43388866e-03, -2.55989004e-03, -3.11574169e-02, -9.23017771e-03,\n",
       "       -8.91023783e-02, -1.17316587e-02, -3.48392791e-02, -9.57863948e-03,\n",
       "       -3.23972146e-02, -3.32969040e-02, -3.21938841e-02, -3.96887379e-02,\n",
       "       -2.55989004e-03, -7.67987142e-03, -1.79220491e-02, -1.05442774e-01,\n",
       "       -7.67987142e-03, -5.27221146e-02, -2.21746752e-02, -1.65922127e-02,\n",
       "       -2.78181898e-02, -2.42923342e-02, -2.85172241e-02, -2.04833489e-02,\n",
       "       -1.57821354e-02, -2.84019094e-02, -2.01606242e-02, -7.84318412e-02,\n",
       "       -7.67220249e-02, -7.18615199e-02, -5.72416316e-03, -1.30539986e-02,\n",
       "       -4.09925047e-02, -3.78232255e-02, -2.59887334e-02, -2.93117686e-02,\n",
       "       -2.74620220e-02, -4.36346944e-02, -7.70239172e-02, -4.80831245e-02,\n",
       "       -8.14620095e-02, -2.17264421e-02, -3.15760703e-02, -3.21938841e-02,\n",
       "       -2.38837957e-02, -6.24586648e-02, -3.08397122e-02, -2.80531306e-02,\n",
       "       -4.49711467e-02, -8.17874308e-02,  1.02277525e+01, -3.32969040e-02,\n",
       "       -3.89363136e-02, -3.38834851e-02, -2.31869448e-02, -2.82861261e-02,\n",
       "       -3.08397122e-02, -3.41730171e-02, -4.32561877e-02, -2.98664051e-02,\n",
       "       -1.68292285e-01, -3.12626038e-02, -4.31800912e-02, -4.71848586e-02,\n",
       "       -2.11140296e-02, -2.81698685e-02, -1.30539986e-02, -2.64889099e-02,\n",
       "       -2.84019094e-02, -1.42542657e-02, -2.03226261e-02, -4.34836841e-02,\n",
       "       -3.79965798e-02, -6.77296558e-03, -3.40767785e-02, -3.05187130e-02,\n",
       "       -1.85983415e-01, -1.22776864e-02, -8.86803884e-03, -2.62400102e-02,\n",
       "       -8.35551957e-02, -5.32816117e-02, -4.13120596e-02, -5.13290745e-02,\n",
       "       -3.47448773e-02, -4.42336194e-02, -3.06260851e-02, -5.32816117e-02,\n",
       "       -2.50895084e-02, -2.23220900e-02, -4.63403780e-02, -7.24062849e-03,\n",
       "       -2.91995815e-02, -6.27052712e-03, -1.91599160e-02, -2.21746752e-02,\n",
       "       -1.84627150e-02, -3.05187130e-02, -1.25417940e-02, -3.64969826e-02,\n",
       "       -1.84627150e-02, -7.14920558e-02, -2.41569206e-02, -2.56072081e-02,\n",
       "       -9.57863948e-03, -2.66124893e-02, -2.12687830e-02, -8.86803884e-03,\n",
       "       -4.06704559e-02, -2.33279766e-02, -1.98326573e-02, -2.89739087e-02,\n",
       "       -3.25992822e-02, -2.91995815e-02, -1.20077748e-02, -2.56072081e-02,\n",
       "       -2.50895084e-02, -1.17316587e-02, -2.80531306e-02, -3.32969040e-02,\n",
       "       -3.00854068e-02, -3.03028315e-02, -3.75617026e-02, -3.09459748e-02,\n",
       "       -2.86320759e-02, -2.89739087e-02, -3.42689867e-02, -2.53496764e-02,\n",
       "       -1.73645794e-02, -2.33279766e-02, -1.93302931e-02, -1.22776864e-02,\n",
       "       -3.37864256e-02, -2.68579470e-02, -3.34935673e-02, -2.08010755e-02,\n",
       "       -2.36075183e-02, -1.65922127e-02, -1.69827824e-02, -3.33953798e-02,\n",
       "       -1.40224276e-02, -4.43388866e-03, -3.62024307e-03, -1.08612986e-02,\n",
       "       -1.11589601e-02, -1.37866946e-02, -1.47069908e-02, -8.09532180e-03,\n",
       "       -1.47069908e-02, -5.72416316e-03, -4.46775852e-02, -7.00423532e-02,\n",
       "       -1.04549639e-01, -2.74620220e-02, -4.35592542e-02, -3.46502196e-02,\n",
       "       -1.90923887e-01, -3.01943142e-02, -5.17126760e-02, -1.56473335e-01,\n",
       "       -9.69845662e-02, -1.64843232e-01, -6.43855612e-02, -4.73936482e-02,\n",
       "       -5.00951663e-02, -3.85119878e-02, -1.84627150e-02, -3.97714673e-02,\n",
       "       -5.65237135e-02, -5.34668242e-02, -1.88145407e-02, -1.14488890e-02,\n",
       "       -2.15749658e-02, -3.16798725e-02, -3.97714673e-02, -5.27845705e-02,\n",
       "       -3.43646895e-02, -5.14572560e-02, -2.27586175e-02, -3.21938841e-02,\n",
       "       -6.77296558e-03, -6.27052712e-03, -1.61922354e-02, -2.41569206e-02,\n",
       "       -4.43820976e-02, -7.08409519e-02, -3.74741251e-02, -3.79100012e-02,\n",
       "       -4.27975945e-02, -2.66124893e-02, -1.55730402e-02, -6.77296558e-03,\n",
       "       -4.48979348e-02, -7.24062849e-03, -6.51507623e-02, -1.37866946e-02,\n",
       "       -2.42923342e-02, -2.29022815e-02, -2.81698685e-02, -3.96887379e-02,\n",
       "       -2.37460579e-02, -1.35468633e-02, -9.23017771e-03, -8.49047296e-03,\n",
       "       -2.20262758e-02, -3.62259401e-02, -2.33279766e-02, -1.84627150e-02,\n",
       "       -8.09714903e-02, -1.37866946e-02, -1.44823959e-02, -3.96058367e-02,\n",
       "       -2.79359064e-02, -9.23017771e-03, -2.31869448e-02, -1.20077748e-02,\n",
       "       -1.63934426e-02, -1.98326573e-02, -1.81040629e-02, -2.11140296e-02,\n",
       "       -2.15749658e-02, -1.33027121e-02, -1.98326573e-02, -5.72416316e-03,\n",
       "       -3.13674393e-02, -9.57863948e-03, -4.18654518e-02, -4.46775852e-02,\n",
       "       -1.20077748e-02, -6.27052712e-03, -2.96457913e-02, -1.89880125e-02,\n",
       "       -1.25417940e-02, -7.24062849e-03, -3.10518751e-02, -2.55989004e-03,\n",
       "       -3.62024307e-03, -2.55989004e-03, -2.55989004e-03, -3.62024307e-03,\n",
       "       -5.11983040e-03, -8.04368075e-02, -3.07330836e-02, -3.47448773e-02,\n",
       "       -1.77381703e-02, -3.00854068e-02, -5.49862820e-02, -3.31981374e-02,\n",
       "       -3.45553038e-02, -3.23972146e-02, -4.04272470e-02, -4.53354469e-02,\n",
       "       -2.91995815e-02, -5.10072261e-02, -4.18654518e-02, -1.37866946e-02,\n",
       "       -3.14719270e-02, -1.05552504e-02, -5.72771477e-02, -1.28004568e-02,\n",
       "       -3.92724932e-02, -2.97563019e-02, -3.11574169e-02, -2.54787668e-02,\n",
       "       -1.47069908e-02, -3.05187130e-02, -4.34836841e-02, -3.49334270e-02,\n",
       "       -3.73863435e-02, -6.53533281e-02, -7.45309332e-02, -3.64068581e-02,\n",
       "       -2.79359064e-02, -5.33434198e-02, -1.82842672e-02, -2.69798408e-02,\n",
       "       -2.29022815e-02, -1.42542657e-02, -3.03028315e-02, -2.87464704e-02,\n",
       "       -2.91995815e-02, -2.94235294e-02, -4.20222346e-02, -3.79965798e-02,\n",
       "       -3.55855226e-02, -2.38837957e-02, -5.08131489e-02, -3.93560921e-02,\n",
       "       -3.07330836e-02, -3.10518751e-02, -2.56072081e-02, -2.23220900e-02,\n",
       "       -2.87464704e-02, -3.62259401e-02, -6.04167784e-02, -1.88145407e-02,\n",
       "       -2.01606242e-02, -4.71848586e-02, -4.05895472e-02, -3.65868862e-02,\n",
       "       -1.17316587e-02, -1.02400634e-02, -2.57350100e-02, -1.84627150e-02,\n",
       "       -1.42542657e-02, -4.33321516e-02, -4.14709200e-02])"
      ]
     },
     "execution_count": 337,
     "metadata": {},
     "output_type": "execute_result"
    }
   ],
   "source": [
    "X_normalizado[0]"
   ]
  },
  {
   "cell_type": "code",
   "execution_count": 338,
   "metadata": {
    "id": "LxDP_iWIDoQ2"
   },
   "outputs": [],
   "source": [
    "# Dividir los datos en entrenamiento y prueba\n",
    "X_train, X_test, y_train, y_test = train_test_split(X_normalizado, y, test_size=0.2, random_state=42)\n"
   ]
  },
  {
   "cell_type": "markdown",
   "metadata": {},
   "source": [
    "## 9. Clasificación Método probabilístico"
   ]
  },
  {
   "cell_type": "markdown",
   "metadata": {},
   "source": [
    "### 9.1. Modelo Regresión Logística"
   ]
  },
  {
   "cell_type": "code",
   "execution_count": 339,
   "metadata": {
    "id": "XPK3lNOeDrLg"
   },
   "outputs": [
    {
     "data": {
      "text/html": [
       "<style>#sk-container-id-3 {color: black;background-color: white;}#sk-container-id-3 pre{padding: 0;}#sk-container-id-3 div.sk-toggleable {background-color: white;}#sk-container-id-3 label.sk-toggleable__label {cursor: pointer;display: block;width: 100%;margin-bottom: 0;padding: 0.3em;box-sizing: border-box;text-align: center;}#sk-container-id-3 label.sk-toggleable__label-arrow:before {content: \"▸\";float: left;margin-right: 0.25em;color: #696969;}#sk-container-id-3 label.sk-toggleable__label-arrow:hover:before {color: black;}#sk-container-id-3 div.sk-estimator:hover label.sk-toggleable__label-arrow:before {color: black;}#sk-container-id-3 div.sk-toggleable__content {max-height: 0;max-width: 0;overflow: hidden;text-align: left;background-color: #f0f8ff;}#sk-container-id-3 div.sk-toggleable__content pre {margin: 0.2em;color: black;border-radius: 0.25em;background-color: #f0f8ff;}#sk-container-id-3 input.sk-toggleable__control:checked~div.sk-toggleable__content {max-height: 200px;max-width: 100%;overflow: auto;}#sk-container-id-3 input.sk-toggleable__control:checked~label.sk-toggleable__label-arrow:before {content: \"▾\";}#sk-container-id-3 div.sk-estimator input.sk-toggleable__control:checked~label.sk-toggleable__label {background-color: #d4ebff;}#sk-container-id-3 div.sk-label input.sk-toggleable__control:checked~label.sk-toggleable__label {background-color: #d4ebff;}#sk-container-id-3 input.sk-hidden--visually {border: 0;clip: rect(1px 1px 1px 1px);clip: rect(1px, 1px, 1px, 1px);height: 1px;margin: -1px;overflow: hidden;padding: 0;position: absolute;width: 1px;}#sk-container-id-3 div.sk-estimator {font-family: monospace;background-color: #f0f8ff;border: 1px dotted black;border-radius: 0.25em;box-sizing: border-box;margin-bottom: 0.5em;}#sk-container-id-3 div.sk-estimator:hover {background-color: #d4ebff;}#sk-container-id-3 div.sk-parallel-item::after {content: \"\";width: 100%;border-bottom: 1px solid gray;flex-grow: 1;}#sk-container-id-3 div.sk-label:hover label.sk-toggleable__label {background-color: #d4ebff;}#sk-container-id-3 div.sk-serial::before {content: \"\";position: absolute;border-left: 1px solid gray;box-sizing: border-box;top: 0;bottom: 0;left: 50%;z-index: 0;}#sk-container-id-3 div.sk-serial {display: flex;flex-direction: column;align-items: center;background-color: white;padding-right: 0.2em;padding-left: 0.2em;position: relative;}#sk-container-id-3 div.sk-item {position: relative;z-index: 1;}#sk-container-id-3 div.sk-parallel {display: flex;align-items: stretch;justify-content: center;background-color: white;position: relative;}#sk-container-id-3 div.sk-item::before, #sk-container-id-3 div.sk-parallel-item::before {content: \"\";position: absolute;border-left: 1px solid gray;box-sizing: border-box;top: 0;bottom: 0;left: 50%;z-index: -1;}#sk-container-id-3 div.sk-parallel-item {display: flex;flex-direction: column;z-index: 1;position: relative;background-color: white;}#sk-container-id-3 div.sk-parallel-item:first-child::after {align-self: flex-end;width: 50%;}#sk-container-id-3 div.sk-parallel-item:last-child::after {align-self: flex-start;width: 50%;}#sk-container-id-3 div.sk-parallel-item:only-child::after {width: 0;}#sk-container-id-3 div.sk-dashed-wrapped {border: 1px dashed gray;margin: 0 0.4em 0.5em 0.4em;box-sizing: border-box;padding-bottom: 0.4em;background-color: white;}#sk-container-id-3 div.sk-label label {font-family: monospace;font-weight: bold;display: inline-block;line-height: 1.2em;}#sk-container-id-3 div.sk-label-container {text-align: center;}#sk-container-id-3 div.sk-container {/* jupyter's `normalize.less` sets `[hidden] { display: none; }` but bootstrap.min.css set `[hidden] { display: none !important; }` so we also need the `!important` here to be able to override the default hidden behavior on the sphinx rendered scikit-learn.org. See: https://github.com/scikit-learn/scikit-learn/issues/21755 */display: inline-block !important;position: relative;}#sk-container-id-3 div.sk-text-repr-fallback {display: none;}</style><div id=\"sk-container-id-3\" class=\"sk-top-container\"><div class=\"sk-text-repr-fallback\"><pre>LogisticRegression(C=0.1, random_state=0)</pre><b>In a Jupyter environment, please rerun this cell to show the HTML representation or trust the notebook. <br />On GitHub, the HTML representation is unable to render, please try loading this page with nbviewer.org.</b></div><div class=\"sk-container\" hidden><div class=\"sk-item\"><div class=\"sk-estimator sk-toggleable\"><input class=\"sk-toggleable__control sk-hidden--visually\" id=\"sk-estimator-id-3\" type=\"checkbox\" checked><label for=\"sk-estimator-id-3\" class=\"sk-toggleable__label sk-toggleable__label-arrow\">LogisticRegression</label><div class=\"sk-toggleable__content\"><pre>LogisticRegression(C=0.1, random_state=0)</pre></div></div></div></div></div>"
      ],
      "text/plain": [
       "LogisticRegression(C=0.1, random_state=0)"
      ]
     },
     "execution_count": 339,
     "metadata": {},
     "output_type": "execute_result"
    }
   ],
   "source": [
    "# Inicializar y entrenar el modelo\n",
    "model = LogisticRegression(penalty=\"l2\",C=.1,random_state=0)\n",
    "model.fit(X_train, y_train)"
   ]
  },
  {
   "cell_type": "code",
   "execution_count": 340,
   "metadata": {
    "id": "gww7D8RbDt7Q"
   },
   "outputs": [],
   "source": [
    "# Realizar predicciones\n",
    "y_pred = model.predict(X_test)"
   ]
  },
  {
   "cell_type": "code",
   "execution_count": 341,
   "metadata": {},
   "outputs": [],
   "source": [
    "train_acc_log = round((model.score(X_train, y_train))*100,1)\n",
    "test_acc_log = round((model.score(X_test, y_test))*100,1)"
   ]
  },
  {
   "cell_type": "code",
   "execution_count": 342,
   "metadata": {},
   "outputs": [
    {
     "name": "stdout",
     "output_type": "stream",
     "text": [
      "Training accuracy: 89.9 %\n",
      "Test accuracy: 90.0 %\n"
     ]
    }
   ],
   "source": [
    "print(\"Training accuracy: %s %%\" % train_acc_log)\n",
    "print('Test accuracy: %s %%' % test_acc_log)"
   ]
  },
  {
   "cell_type": "markdown",
   "metadata": {},
   "source": [
    "### 9.2. Modelo Bernoulli Naive Bayes"
   ]
  },
  {
   "cell_type": "code",
   "execution_count": 343,
   "metadata": {},
   "outputs": [],
   "source": [
    "#libreria para crear el modelo de machine learning\n",
    "from sklearn.naive_bayes import BernoulliNB"
   ]
  },
  {
   "cell_type": "code",
   "execution_count": 344,
   "metadata": {},
   "outputs": [],
   "source": [
    "#creamos el modelo\n",
    "bnb = BernoulliNB(binarize=-0.44)"
   ]
  },
  {
   "cell_type": "code",
   "execution_count": 345,
   "metadata": {},
   "outputs": [
    {
     "data": {
      "text/plain": [
       "-0.021114029633582495"
      ]
     },
     "execution_count": 345,
     "metadata": {},
     "output_type": "execute_result"
    }
   ],
   "source": [
    "# utilizar la mediana, porque es el valor central de nuestros datos ordenados\n",
    "np.median(X_train)"
   ]
  },
  {
   "cell_type": "code",
   "execution_count": 346,
   "metadata": {},
   "outputs": [],
   "source": [
    "from sklearn.preprocessing import binarize"
   ]
  },
  {
   "cell_type": "code",
   "execution_count": 347,
   "metadata": {},
   "outputs": [],
   "source": [
    "X_binarize = binarize(X_train)"
   ]
  },
  {
   "cell_type": "code",
   "execution_count": 348,
   "metadata": {},
   "outputs": [],
   "source": [
    "bnb = BernoulliNB()"
   ]
  },
  {
   "cell_type": "code",
   "execution_count": 349,
   "metadata": {},
   "outputs": [
    {
     "data": {
      "text/html": [
       "<style>#sk-container-id-4 {color: black;background-color: white;}#sk-container-id-4 pre{padding: 0;}#sk-container-id-4 div.sk-toggleable {background-color: white;}#sk-container-id-4 label.sk-toggleable__label {cursor: pointer;display: block;width: 100%;margin-bottom: 0;padding: 0.3em;box-sizing: border-box;text-align: center;}#sk-container-id-4 label.sk-toggleable__label-arrow:before {content: \"▸\";float: left;margin-right: 0.25em;color: #696969;}#sk-container-id-4 label.sk-toggleable__label-arrow:hover:before {color: black;}#sk-container-id-4 div.sk-estimator:hover label.sk-toggleable__label-arrow:before {color: black;}#sk-container-id-4 div.sk-toggleable__content {max-height: 0;max-width: 0;overflow: hidden;text-align: left;background-color: #f0f8ff;}#sk-container-id-4 div.sk-toggleable__content pre {margin: 0.2em;color: black;border-radius: 0.25em;background-color: #f0f8ff;}#sk-container-id-4 input.sk-toggleable__control:checked~div.sk-toggleable__content {max-height: 200px;max-width: 100%;overflow: auto;}#sk-container-id-4 input.sk-toggleable__control:checked~label.sk-toggleable__label-arrow:before {content: \"▾\";}#sk-container-id-4 div.sk-estimator input.sk-toggleable__control:checked~label.sk-toggleable__label {background-color: #d4ebff;}#sk-container-id-4 div.sk-label input.sk-toggleable__control:checked~label.sk-toggleable__label {background-color: #d4ebff;}#sk-container-id-4 input.sk-hidden--visually {border: 0;clip: rect(1px 1px 1px 1px);clip: rect(1px, 1px, 1px, 1px);height: 1px;margin: -1px;overflow: hidden;padding: 0;position: absolute;width: 1px;}#sk-container-id-4 div.sk-estimator {font-family: monospace;background-color: #f0f8ff;border: 1px dotted black;border-radius: 0.25em;box-sizing: border-box;margin-bottom: 0.5em;}#sk-container-id-4 div.sk-estimator:hover {background-color: #d4ebff;}#sk-container-id-4 div.sk-parallel-item::after {content: \"\";width: 100%;border-bottom: 1px solid gray;flex-grow: 1;}#sk-container-id-4 div.sk-label:hover label.sk-toggleable__label {background-color: #d4ebff;}#sk-container-id-4 div.sk-serial::before {content: \"\";position: absolute;border-left: 1px solid gray;box-sizing: border-box;top: 0;bottom: 0;left: 50%;z-index: 0;}#sk-container-id-4 div.sk-serial {display: flex;flex-direction: column;align-items: center;background-color: white;padding-right: 0.2em;padding-left: 0.2em;position: relative;}#sk-container-id-4 div.sk-item {position: relative;z-index: 1;}#sk-container-id-4 div.sk-parallel {display: flex;align-items: stretch;justify-content: center;background-color: white;position: relative;}#sk-container-id-4 div.sk-item::before, #sk-container-id-4 div.sk-parallel-item::before {content: \"\";position: absolute;border-left: 1px solid gray;box-sizing: border-box;top: 0;bottom: 0;left: 50%;z-index: -1;}#sk-container-id-4 div.sk-parallel-item {display: flex;flex-direction: column;z-index: 1;position: relative;background-color: white;}#sk-container-id-4 div.sk-parallel-item:first-child::after {align-self: flex-end;width: 50%;}#sk-container-id-4 div.sk-parallel-item:last-child::after {align-self: flex-start;width: 50%;}#sk-container-id-4 div.sk-parallel-item:only-child::after {width: 0;}#sk-container-id-4 div.sk-dashed-wrapped {border: 1px dashed gray;margin: 0 0.4em 0.5em 0.4em;box-sizing: border-box;padding-bottom: 0.4em;background-color: white;}#sk-container-id-4 div.sk-label label {font-family: monospace;font-weight: bold;display: inline-block;line-height: 1.2em;}#sk-container-id-4 div.sk-label-container {text-align: center;}#sk-container-id-4 div.sk-container {/* jupyter's `normalize.less` sets `[hidden] { display: none; }` but bootstrap.min.css set `[hidden] { display: none !important; }` so we also need the `!important` here to be able to override the default hidden behavior on the sphinx rendered scikit-learn.org. See: https://github.com/scikit-learn/scikit-learn/issues/21755 */display: inline-block !important;position: relative;}#sk-container-id-4 div.sk-text-repr-fallback {display: none;}</style><div id=\"sk-container-id-4\" class=\"sk-top-container\"><div class=\"sk-text-repr-fallback\"><pre>BernoulliNB()</pre><b>In a Jupyter environment, please rerun this cell to show the HTML representation or trust the notebook. <br />On GitHub, the HTML representation is unable to render, please try loading this page with nbviewer.org.</b></div><div class=\"sk-container\" hidden><div class=\"sk-item\"><div class=\"sk-estimator sk-toggleable\"><input class=\"sk-toggleable__control sk-hidden--visually\" id=\"sk-estimator-id-4\" type=\"checkbox\" checked><label for=\"sk-estimator-id-4\" class=\"sk-toggleable__label sk-toggleable__label-arrow\">BernoulliNB</label><div class=\"sk-toggleable__content\"><pre>BernoulliNB()</pre></div></div></div></div></div>"
      ],
      "text/plain": [
       "BernoulliNB()"
      ]
     },
     "execution_count": 349,
     "metadata": {},
     "output_type": "execute_result"
    }
   ],
   "source": [
    "# entrenar el modelo\n",
    "bnb.fit(X_binarize, y_train)"
   ]
  },
  {
   "cell_type": "code",
   "execution_count": 350,
   "metadata": {},
   "outputs": [],
   "source": [
    "# probar el modelo\n",
    "predict_BNb = bnb.predict(X_test)"
   ]
  },
  {
   "cell_type": "code",
   "execution_count": 351,
   "metadata": {},
   "outputs": [
    {
     "data": {
      "text/plain": [
       "array([1, 1, 1, ..., 0, 0, 1])"
      ]
     },
     "execution_count": 351,
     "metadata": {},
     "output_type": "execute_result"
    }
   ],
   "source": [
    "predict_BNb"
   ]
  },
  {
   "cell_type": "code",
   "execution_count": null,
   "metadata": {},
   "outputs": [],
   "source": []
  },
  {
   "cell_type": "markdown",
   "metadata": {},
   "source": [
    "## 10. Evaluación de modelo"
   ]
  },
  {
   "cell_type": "code",
   "execution_count": 352,
   "metadata": {
    "id": "Oo21abpTDwXY"
   },
   "outputs": [
    {
     "name": "stdout",
     "output_type": "stream",
     "text": [
      "Precisión del modelo: 0.8996756331706038\n"
     ]
    }
   ],
   "source": [
    "# Evaluar el rendimiento del modelo de Regresión Logística\n",
    "accuracy = accuracy_score(y_test, y_pred)\n",
    "print(f'Precisión del modelo: {accuracy}')"
   ]
  },
  {
   "cell_type": "code",
   "execution_count": 353,
   "metadata": {},
   "outputs": [],
   "source": [
    "# Otros algoritmos: \n",
    "# - Decision Tree Classifier\n",
    "# - Random Forest\n",
    "# - SVM Support Vector Machines\n",
    "# - KNN K-Nearest Neighbors\n",
    "# - H20 para python Gradient Boosting Machine (GBM)"
   ]
  },
  {
   "cell_type": "code",
   "execution_count": null,
   "metadata": {},
   "outputs": [],
   "source": []
  }
 ],
 "metadata": {
  "colab": {
   "provenance": []
  },
  "kernelspec": {
   "display_name": "Python 3 (ipykernel)",
   "language": "python",
   "name": "python3"
  },
  "language_info": {
   "codemirror_mode": {
    "name": "ipython",
    "version": 3
   },
   "file_extension": ".py",
   "mimetype": "text/x-python",
   "name": "python",
   "nbconvert_exporter": "python",
   "pygments_lexer": "ipython3",
   "version": "3.10.9"
  }
 },
 "nbformat": 4,
 "nbformat_minor": 1
}
